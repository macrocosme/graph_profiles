{
 "cells": [
  {
   "cell_type": "code",
   "execution_count": 1,
   "id": "86611518-5d87-47e1-94b7-39e759fdd7a2",
   "metadata": {},
   "outputs": [
    {
     "name": "stdout",
     "output_type": "stream",
     "text": [
      "Importing the dtw module. When using in academic works please cite:\n",
      "  T. Giorgino. Computing and Visualizing Dynamic Time Warping Alignments in R: The dtw Package.\n",
      "  J. Stat. Soft., doi:10.18637/jss.v031.i07.\n",
      "\n"
     ]
    }
   ],
   "source": [
    "%load_ext autoreload\n",
    "%autoreload 2\n",
    "%config InlineBackend.figure_format='retina'\n",
    "\n",
    "import os\n",
    "import sys\n",
    "import time\n",
    "from multiprocessing import Process, Pool\n",
    "import warnings\n",
    "warnings.simplefilter('ignore')\n",
    "\n",
    "# Add module path to system path\n",
    "module_paths = ['..', \n",
    "                '../..',\n",
    "               ]\n",
    "for module_path in module_paths:\n",
    "    if os.path.abspath(os.path.join(module_path)) not in sys.path:\n",
    "        sys.path.insert(0, module_path)\n",
    "    \n",
    "from epn_mining.preparation import epn\n",
    "from epn_mining.utils.io import load, save\n",
    "    \n",
    "\n",
    "\n",
    "# Set session variables\n",
    "verbose = True\n",
    "state_store=True\n"
   ]
  },
  {
   "cell_type": "code",
   "execution_count": 2,
   "id": "82512023-5142-4f14-adbf-8e42ff08f0c0",
   "metadata": {},
   "outputs": [],
   "source": [
    "import numpy as np\n",
    "import pandas as pd\n",
    "import matplotlib.pyplot as plt\n",
    "from matplotlib import gridspec\n",
    "\n",
    "from tqdm import tqdm\n",
    "\n",
    "import cfod\n",
    "from cfod import catalog\n",
    "from cfod.routines import waterfaller\n",
    "\n",
    "import h5py\n",
    "import scipy\n",
    "import wget"
   ]
  },
  {
   "cell_type": "code",
   "execution_count": 3,
   "id": "18f66acd-c380-4ffc-bab5-ad58d19bb470",
   "metadata": {},
   "outputs": [],
   "source": [
    "data_catalog = catalog.as_dataframe()\n",
    "#list(data_catalog['tns_name'])"
   ]
  },
  {
   "cell_type": "code",
   "execution_count": 14,
   "id": "836d6822-6a8d-4a63-8a09-3cbcc299eccf",
   "metadata": {},
   "outputs": [],
   "source": [
    "from Graph_getter import Get_me_FRB_data"
   ]
  },
  {
   "cell_type": "code",
   "execution_count": 15,
   "id": "e4640f90-39b9-4781-a98e-ae2b64a6c3ea",
   "metadata": {},
   "outputs": [
    {
     "name": "stdout",
     "output_type": "stream",
     "text": [
      "file not in folder, downloading\n"
     ]
    },
    {
     "ename": "FileNotFoundError",
     "evalue": "[Errno 2] No such file or directory: '/FRB_data_files/13jc_g35.tmp'",
     "output_type": "error",
     "traceback": [
      "\u001b[0;31m---------------------------------------------------------------------------\u001b[0m",
      "\u001b[0;31mFileNotFoundError\u001b[0m                         Traceback (most recent call last)",
      "File \u001b[0;32m~/Bachelor project - Hugo Veldhuis/graph_profiles/notebooks/Graph_getter.py:59\u001b[0m, in \u001b[0;36mget_data\u001b[0;34m(burst_index_number)\u001b[0m\n\u001b[1;32m     58\u001b[0m \u001b[38;5;66;03m#data = h5py.File(Data_from_source, \"r\")\u001b[39;00m\n\u001b[0;32m---> 59\u001b[0m data \u001b[38;5;241m=\u001b[39m \u001b[43mh5py\u001b[49m\u001b[38;5;241;43m.\u001b[39;49m\u001b[43mFile\u001b[49m\u001b[43m(\u001b[49m\u001b[38;5;124;43mf\u001b[39;49m\u001b[38;5;124;43m\"\u001b[39;49m\u001b[38;5;132;43;01m{\u001b[39;49;00m\u001b[43mFRB_data_folder\u001b[49m\u001b[38;5;132;43;01m}\u001b[39;49;00m\u001b[38;5;132;43;01m{\u001b[39;49;00m\u001b[43mData_from_source\u001b[49m\u001b[38;5;132;43;01m}\u001b[39;49;00m\u001b[38;5;124;43m\"\u001b[39;49m\u001b[43m,\u001b[49m\u001b[43m \u001b[49m\u001b[38;5;124;43m\"\u001b[39;49m\u001b[38;5;124;43mr\u001b[39;49m\u001b[38;5;124;43m\"\u001b[39;49m\u001b[43m)\u001b[49m\n\u001b[1;32m     61\u001b[0m \u001b[38;5;28mprint\u001b[39m(\u001b[38;5;124m\"\u001b[39m\u001b[38;5;124mfile from folder\u001b[39m\u001b[38;5;124m\"\u001b[39m)\n",
      "File \u001b[0;32m/opt/conda/lib/python3.8/site-packages/h5py/_hl/files.py:444\u001b[0m, in \u001b[0;36mFile.__init__\u001b[0;34m(self, name, mode, driver, libver, userblock_size, swmr, rdcc_nslots, rdcc_nbytes, rdcc_w0, track_order, fs_strategy, fs_persist, fs_threshold, **kwds)\u001b[0m\n\u001b[1;32m    443\u001b[0m     fapl \u001b[38;5;241m=\u001b[39m make_fapl(driver, libver, rdcc_nslots, rdcc_nbytes, rdcc_w0, \u001b[38;5;241m*\u001b[39m\u001b[38;5;241m*\u001b[39mkwds)\n\u001b[0;32m--> 444\u001b[0m     fid \u001b[38;5;241m=\u001b[39m \u001b[43mmake_fid\u001b[49m\u001b[43m(\u001b[49m\u001b[43mname\u001b[49m\u001b[43m,\u001b[49m\u001b[43m \u001b[49m\u001b[43mmode\u001b[49m\u001b[43m,\u001b[49m\u001b[43m \u001b[49m\u001b[43muserblock_size\u001b[49m\u001b[43m,\u001b[49m\n\u001b[1;32m    445\u001b[0m \u001b[43m                   \u001b[49m\u001b[43mfapl\u001b[49m\u001b[43m,\u001b[49m\u001b[43m \u001b[49m\u001b[43mfcpl\u001b[49m\u001b[38;5;241;43m=\u001b[39;49m\u001b[43mmake_fcpl\u001b[49m\u001b[43m(\u001b[49m\u001b[43mtrack_order\u001b[49m\u001b[38;5;241;43m=\u001b[39;49m\u001b[43mtrack_order\u001b[49m\u001b[43m,\u001b[49m\u001b[43m \u001b[49m\u001b[43mfs_strategy\u001b[49m\u001b[38;5;241;43m=\u001b[39;49m\u001b[43mfs_strategy\u001b[49m\u001b[43m,\u001b[49m\n\u001b[1;32m    446\u001b[0m \u001b[43m                   \u001b[49m\u001b[43mfs_persist\u001b[49m\u001b[38;5;241;43m=\u001b[39;49m\u001b[43mfs_persist\u001b[49m\u001b[43m,\u001b[49m\u001b[43m \u001b[49m\u001b[43mfs_threshold\u001b[49m\u001b[38;5;241;43m=\u001b[39;49m\u001b[43mfs_threshold\u001b[49m\u001b[43m)\u001b[49m\u001b[43m,\u001b[49m\n\u001b[1;32m    447\u001b[0m \u001b[43m                   \u001b[49m\u001b[43mswmr\u001b[49m\u001b[38;5;241;43m=\u001b[39;49m\u001b[43mswmr\u001b[49m\u001b[43m)\u001b[49m\n\u001b[1;32m    449\u001b[0m \u001b[38;5;28;01mif\u001b[39;00m \u001b[38;5;28misinstance\u001b[39m(libver, \u001b[38;5;28mtuple\u001b[39m):\n",
      "File \u001b[0;32m/opt/conda/lib/python3.8/site-packages/h5py/_hl/files.py:199\u001b[0m, in \u001b[0;36mmake_fid\u001b[0;34m(name, mode, userblock_size, fapl, fcpl, swmr)\u001b[0m\n\u001b[1;32m    198\u001b[0m         flags \u001b[38;5;241m|\u001b[39m\u001b[38;5;241m=\u001b[39m h5f\u001b[38;5;241m.\u001b[39mACC_SWMR_READ\n\u001b[0;32m--> 199\u001b[0m     fid \u001b[38;5;241m=\u001b[39m \u001b[43mh5f\u001b[49m\u001b[38;5;241;43m.\u001b[39;49m\u001b[43mopen\u001b[49m\u001b[43m(\u001b[49m\u001b[43mname\u001b[49m\u001b[43m,\u001b[49m\u001b[43m \u001b[49m\u001b[43mflags\u001b[49m\u001b[43m,\u001b[49m\u001b[43m \u001b[49m\u001b[43mfapl\u001b[49m\u001b[38;5;241;43m=\u001b[39;49m\u001b[43mfapl\u001b[49m\u001b[43m)\u001b[49m\n\u001b[1;32m    200\u001b[0m \u001b[38;5;28;01melif\u001b[39;00m mode \u001b[38;5;241m==\u001b[39m \u001b[38;5;124m'\u001b[39m\u001b[38;5;124mr+\u001b[39m\u001b[38;5;124m'\u001b[39m:\n",
      "File \u001b[0;32mh5py/_objects.pyx:54\u001b[0m, in \u001b[0;36mh5py._objects.with_phil.wrapper\u001b[0;34m()\u001b[0m\n",
      "File \u001b[0;32mh5py/_objects.pyx:55\u001b[0m, in \u001b[0;36mh5py._objects.with_phil.wrapper\u001b[0;34m()\u001b[0m\n",
      "File \u001b[0;32mh5py/h5f.pyx:100\u001b[0m, in \u001b[0;36mh5py.h5f.open\u001b[0;34m()\u001b[0m\n",
      "\u001b[0;31mFileNotFoundError\u001b[0m: [Errno 2] Unable to open file (unable to open file: name = '../FRB_data_files/FRB20180814B_waterfall.h5', errno = 2, error message = 'No such file or directory', flags = 0, o_flags = 0)",
      "\nDuring handling of the above exception, another exception occurred:\n",
      "\u001b[0;31mFileNotFoundError\u001b[0m                         Traceback (most recent call last)",
      "Input \u001b[0;32mIn [15]\u001b[0m, in \u001b[0;36m<cell line: 1>\u001b[0;34m()\u001b[0m\n\u001b[0;32m----> 1\u001b[0m plot_time, ts_full_list, model_ts_full_list, times_shorter, cal_ts_shorter, snr \u001b[38;5;241m=\u001b[39m \u001b[43mGet_me_FRB_data\u001b[49m\u001b[43m(\u001b[49m\u001b[38;5;241;43m10\u001b[39;49m\u001b[43m)\u001b[49m\n\u001b[1;32m      2\u001b[0m plot_time\n",
      "File \u001b[0;32m~/Bachelor project - Hugo Veldhuis/graph_profiles/notebooks/Graph_getter.py:155\u001b[0m, in \u001b[0;36mGet_me_FRB_data\u001b[0;34m(burst_index_number_input)\u001b[0m\n\u001b[1;32m    154\u001b[0m \u001b[38;5;28;01mdef\u001b[39;00m \u001b[38;5;21mGet_me_FRB_data\u001b[39m(burst_index_number_input):\n\u001b[0;32m--> 155\u001b[0m     data\u001b[38;5;241m=\u001b[39m \u001b[43mget_data\u001b[49m\u001b[43m(\u001b[49m\u001b[43mburst_index_number\u001b[49m\u001b[43m \u001b[49m\u001b[38;5;241;43m=\u001b[39;49m\u001b[43mburst_index_number_input\u001b[49m\u001b[43m)\u001b[49m\n\u001b[1;32m    156\u001b[0m     plot_time, ts_full_list, model_ts_full_list, times_shorter, cal_ts_shorter, snr \u001b[38;5;241m=\u001b[39m make_curves(data)\n\u001b[1;32m    157\u001b[0m     \u001b[38;5;28;01mreturn\u001b[39;00m plot_time, ts_full_list, model_ts_full_list, times_shorter, cal_ts_shorter, snr\n",
      "File \u001b[0;32m~/Bachelor project - Hugo Veldhuis/graph_profiles/notebooks/Graph_getter.py:66\u001b[0m, in \u001b[0;36mget_data\u001b[0;34m(burst_index_number)\u001b[0m\n\u001b[1;32m     64\u001b[0m \u001b[38;5;28;01mexcept\u001b[39;00m:\n\u001b[1;32m     65\u001b[0m     \u001b[38;5;28mprint\u001b[39m(\u001b[38;5;124m'\u001b[39m\u001b[38;5;124mfile not in folder, downloading\u001b[39m\u001b[38;5;124m'\u001b[39m)\n\u001b[0;32m---> 66\u001b[0m     Data_from_source \u001b[38;5;241m=\u001b[39m \u001b[43mwget\u001b[49m\u001b[38;5;241;43m.\u001b[39;49m\u001b[43mdownload\u001b[49m\u001b[43m(\u001b[49m\u001b[43murl\u001b[49m\u001b[43m,\u001b[49m\u001b[43m \u001b[49m\u001b[43mout\u001b[49m\u001b[38;5;241;43m=\u001b[39;49m\u001b[38;5;124;43m'\u001b[39;49m\u001b[38;5;124;43mBachelor project - Hugo Veldhuis/graph_profiles/notebooks/FRB_data_files) #+example_tns+waterfall_string\u001b[39;49m\u001b[38;5;124;43m'\u001b[39;49m\u001b[43m)\u001b[49m\n\u001b[1;32m     67\u001b[0m     data \u001b[38;5;241m=\u001b[39m h5py\u001b[38;5;241m.\u001b[39mFile(Data_from_source, \u001b[38;5;124m\"\u001b[39m\u001b[38;5;124mr\u001b[39m\u001b[38;5;124m\"\u001b[39m)\n\u001b[1;32m     69\u001b[0m \u001b[38;5;28;01mreturn\u001b[39;00m data\n",
      "File \u001b[0;32m~/.local/lib/python3.8/site-packages/wget.py:506\u001b[0m, in \u001b[0;36mdownload\u001b[0;34m(url, out, bar)\u001b[0m\n\u001b[1;32m    504\u001b[0m \u001b[38;5;66;03m# get filename for temp file in current directory\u001b[39;00m\n\u001b[1;32m    505\u001b[0m prefix \u001b[38;5;241m=\u001b[39m detect_filename(url, out)\n\u001b[0;32m--> 506\u001b[0m (fd, tmpfile) \u001b[38;5;241m=\u001b[39m \u001b[43mtempfile\u001b[49m\u001b[38;5;241;43m.\u001b[39;49m\u001b[43mmkstemp\u001b[49m\u001b[43m(\u001b[49m\u001b[38;5;124;43m\"\u001b[39;49m\u001b[38;5;124;43m.tmp\u001b[39;49m\u001b[38;5;124;43m\"\u001b[39;49m\u001b[43m,\u001b[49m\u001b[43m \u001b[49m\u001b[43mprefix\u001b[49m\u001b[38;5;241;43m=\u001b[39;49m\u001b[43mprefix\u001b[49m\u001b[43m,\u001b[49m\u001b[43m \u001b[49m\u001b[38;5;28;43mdir\u001b[39;49m\u001b[38;5;241;43m=\u001b[39;49m\u001b[38;5;124;43m\"\u001b[39;49m\u001b[38;5;124;43m.\u001b[39;49m\u001b[38;5;124;43m\"\u001b[39;49m\u001b[43m)\u001b[49m\n\u001b[1;32m    507\u001b[0m os\u001b[38;5;241m.\u001b[39mclose(fd)\n\u001b[1;32m    508\u001b[0m os\u001b[38;5;241m.\u001b[39munlink(tmpfile)\n",
      "File \u001b[0;32m/opt/conda/lib/python3.8/tempfile.py:331\u001b[0m, in \u001b[0;36mmkstemp\u001b[0;34m(suffix, prefix, dir, text)\u001b[0m\n\u001b[1;32m    328\u001b[0m \u001b[38;5;28;01melse\u001b[39;00m:\n\u001b[1;32m    329\u001b[0m     flags \u001b[38;5;241m=\u001b[39m _bin_openflags\n\u001b[0;32m--> 331\u001b[0m \u001b[38;5;28;01mreturn\u001b[39;00m \u001b[43m_mkstemp_inner\u001b[49m\u001b[43m(\u001b[49m\u001b[38;5;28;43mdir\u001b[39;49m\u001b[43m,\u001b[49m\u001b[43m \u001b[49m\u001b[43mprefix\u001b[49m\u001b[43m,\u001b[49m\u001b[43m \u001b[49m\u001b[43msuffix\u001b[49m\u001b[43m,\u001b[49m\u001b[43m \u001b[49m\u001b[43mflags\u001b[49m\u001b[43m,\u001b[49m\u001b[43m \u001b[49m\u001b[43moutput_type\u001b[49m\u001b[43m)\u001b[49m\n",
      "File \u001b[0;32m/opt/conda/lib/python3.8/tempfile.py:250\u001b[0m, in \u001b[0;36m_mkstemp_inner\u001b[0;34m(dir, pre, suf, flags, output_type)\u001b[0m\n\u001b[1;32m    248\u001b[0m _sys\u001b[38;5;241m.\u001b[39maudit(\u001b[38;5;124m\"\u001b[39m\u001b[38;5;124mtempfile.mkstemp\u001b[39m\u001b[38;5;124m\"\u001b[39m, file)\n\u001b[1;32m    249\u001b[0m \u001b[38;5;28;01mtry\u001b[39;00m:\n\u001b[0;32m--> 250\u001b[0m     fd \u001b[38;5;241m=\u001b[39m \u001b[43m_os\u001b[49m\u001b[38;5;241;43m.\u001b[39;49m\u001b[43mopen\u001b[49m\u001b[43m(\u001b[49m\u001b[43mfile\u001b[49m\u001b[43m,\u001b[49m\u001b[43m \u001b[49m\u001b[43mflags\u001b[49m\u001b[43m,\u001b[49m\u001b[43m \u001b[49m\u001b[38;5;241;43m0o600\u001b[39;49m\u001b[43m)\u001b[49m\n\u001b[1;32m    251\u001b[0m \u001b[38;5;28;01mexcept\u001b[39;00m \u001b[38;5;167;01mFileExistsError\u001b[39;00m:\n\u001b[1;32m    252\u001b[0m     \u001b[38;5;28;01mcontinue\u001b[39;00m    \u001b[38;5;66;03m# try again\u001b[39;00m\n",
      "\u001b[0;31mFileNotFoundError\u001b[0m: [Errno 2] No such file or directory: '/FRB_data_files/13jc_g35.tmp'"
     ]
    }
   ],
   "source": [
    "plot_time, ts_full_list, model_ts_full_list, times_shorter, cal_ts_shorter, snr = Get_me_FRB_data(10)\n",
    "plot_time"
   ]
  },
  {
   "cell_type": "code",
   "execution_count": 18,
   "id": "11d514ff-54fa-4cc3-8fbc-60b83b02ef5a",
   "metadata": {},
   "outputs": [
    {
     "data": {
      "text/plain": [
       "\u001b[0;31mSignature:\u001b[0m \u001b[0mwget\u001b[0m\u001b[0;34m.\u001b[0m\u001b[0mdownload\u001b[0m\u001b[0;34m(\u001b[0m\u001b[0murl\u001b[0m\u001b[0;34m,\u001b[0m \u001b[0mout\u001b[0m\u001b[0;34m=\u001b[0m\u001b[0;32mNone\u001b[0m\u001b[0;34m,\u001b[0m \u001b[0mbar\u001b[0m\u001b[0;34m=\u001b[0m\u001b[0;34m<\u001b[0m\u001b[0mfunction\u001b[0m \u001b[0mbar_adaptive\u001b[0m \u001b[0mat\u001b[0m \u001b[0;36m0x7f8c846b4f70\u001b[0m\u001b[0;34m>\u001b[0m\u001b[0;34m)\u001b[0m\u001b[0;34m\u001b[0m\u001b[0;34m\u001b[0m\u001b[0m\n",
       "\u001b[0;31mDocstring:\u001b[0m\n",
       "High level function, which downloads URL into tmp file in current\n",
       "directory and then renames it to filename autodetected from either URL\n",
       "or HTTP headers.\n",
       "\n",
       ":param bar: function to track download progress (visualize etc.)\n",
       ":param out: output filename or directory\n",
       ":return:    filename where URL is downloaded to\n",
       "\u001b[0;31mFile:\u001b[0m      ~/.local/lib/python3.8/site-packages/wget.py\n",
       "\u001b[0;31mType:\u001b[0m      function\n"
      ]
     },
     "metadata": {},
     "output_type": "display_data"
    }
   ],
   "source": [
    "import wget\n",
    "wget.download?"
   ]
  },
  {
   "cell_type": "code",
   "execution_count": 7,
   "id": "a6d30480-dd08-4643-b721-e3e68ca7ae91",
   "metadata": {},
   "outputs": [],
   "source": [
    "#The bins are currently set as:\n",
    "\n",
    "LIMS = (\n",
    "   [0,  200], # in MHz\n",
    "   [200,400],\n",
    "   [400,700],\n",
    "   [700,1000],\n",
    "   [1000,1500],\n",
    "   [1500,2000],\n",
    "   [2000,1199169832000000]\n",
    ")\n",
    "LIMS_DICT = {i:v for i, v in enumerate(LIMS)}\n",
    "\n",
    "def get_freq_range(freq):\n",
    "   for freq_bin in LIMS_DICT.keys():\n",
    "       l, h = LIMS_DICT[freq_bin]\n",
    "       if (freq >= l) and (freq < h):\n",
    "           return freq_bin\n",
    "   return None"
   ]
  },
  {
   "cell_type": "code",
   "execution_count": 62,
   "id": "39dd6ca2-0e65-46d4-a6d3-f8207780cd55",
   "metadata": {},
   "outputs": [
    {
     "name": "stderr",
     "output_type": "stream",
     "text": [
      "  0%|          | 0/100 [00:00<?, ?it/s]"
     ]
    },
    {
     "name": "stdout",
     "output_type": "stream",
     "text": [
      "file from folder\n",
      "Peak: 13 at time sample, Width = 2.949119982076809 ms, SNR = 311.7753074963206\n"
     ]
    },
    {
     "name": "stderr",
     "output_type": "stream",
     "text": [
      "  1%|          | 1/100 [00:00<01:28,  1.12it/s]"
     ]
    },
    {
     "name": "stdout",
     "output_type": "stream",
     "text": [
      "0\n",
      "file from folder\n",
      "Peak: 12 at time sample, Width = 2.949119982076809 ms, SNR = 148.2569713658641\n"
     ]
    },
    {
     "name": "stderr",
     "output_type": "stream",
     "text": [
      "  2%|▏         | 2/100 [00:01<01:11,  1.37it/s]"
     ]
    },
    {
     "name": "stdout",
     "output_type": "stream",
     "text": [
      "1\n",
      "file from folder\n",
      "Peak: 6 at time sample, Width = 0.9830399649217725 ms, SNR = 1294.7659748792648\n"
     ]
    },
    {
     "name": "stderr",
     "output_type": "stream",
     "text": [
      "  3%|▎         | 3/100 [00:02<01:05,  1.48it/s]"
     ]
    },
    {
     "name": "stdout",
     "output_type": "stream",
     "text": [
      "2\n",
      "file from folder\n",
      "Peak: 13 at time sample, Width = 1.9660800462588668 ms, SNR = 199.60363361881963\n"
     ]
    },
    {
     "name": "stderr",
     "output_type": "stream",
     "text": [
      "  4%|▍         | 4/100 [00:02<01:01,  1.56it/s]"
     ]
    },
    {
     "name": "stdout",
     "output_type": "stream",
     "text": [
      "3\n",
      "file from folder\n",
      "Peak: 14 at time sample, Width = 4.915199824608862 ms, SNR = 1039.4613089820207\n"
     ]
    },
    {
     "name": "stderr",
     "output_type": "stream",
     "text": [
      "  5%|▌         | 5/100 [00:03<00:59,  1.58it/s]"
     ]
    },
    {
     "name": "stdout",
     "output_type": "stream",
     "text": [
      "4\n",
      "file from folder\n",
      "Peak: 29 at time sample, Width = 9.83039994025603 ms, SNR = 354.82534852178514\n"
     ]
    },
    {
     "name": "stderr",
     "output_type": "stream",
     "text": [
      "  6%|▌         | 6/100 [00:04<01:05,  1.42it/s]"
     ]
    },
    {
     "name": "stdout",
     "output_type": "stream",
     "text": [
      "5\n",
      "file from folder\n",
      "Peak: 12 at time sample, Width = 2.9491198947653174 ms, SNR = 208.39678218748116\n"
     ]
    },
    {
     "name": "stderr",
     "output_type": "stream",
     "text": [
      "  7%|▋         | 7/100 [00:04<01:02,  1.49it/s]"
     ]
    },
    {
     "name": "stdout",
     "output_type": "stream",
     "text": [
      "6\n",
      "file from folder\n"
     ]
    },
    {
     "name": "stderr",
     "output_type": "stream",
     "text": [
      "  8%|▊         | 8/100 [00:05<01:00,  1.52it/s]"
     ]
    },
    {
     "name": "stdout",
     "output_type": "stream",
     "text": [
      "Peak: 13 at time sample, Width = 1.9660801626741886 ms, SNR = 189.12949671701583\n",
      "7\n",
      "file from folder\n",
      "Peak: 6 at time sample, Width = 0.9830400813370943 ms, SNR = 606.5651933550835\n"
     ]
    },
    {
     "name": "stderr",
     "output_type": "stream",
     "text": [
      "  9%|▉         | 9/100 [00:06<00:59,  1.54it/s]"
     ]
    },
    {
     "name": "stdout",
     "output_type": "stream",
     "text": [
      "8\n",
      "file from folder\n",
      "Peak: 23 at time sample, Width = 7.864320010412484 ms, SNR = 179.91359122038705\n"
     ]
    },
    {
     "name": "stderr",
     "output_type": "stream",
     "text": [
      " 10%|█         | 10/100 [00:07<01:10,  1.28it/s]"
     ]
    },
    {
     "name": "stdout",
     "output_type": "stream",
     "text": [
      "9\n",
      "file from folder\n",
      "Peak: 14 at time sample, Width = 4.915199970128015 ms, SNR = 279.1211697946155\n"
     ]
    },
    {
     "name": "stderr",
     "output_type": "stream",
     "text": [
      " 11%|█         | 11/100 [00:07<01:04,  1.38it/s]"
     ]
    },
    {
     "name": "stdout",
     "output_type": "stream",
     "text": [
      "10\n",
      "file from folder\n",
      "Peak: 14 at time sample, Width = 4.915199970128015 ms, SNR = 279.1211697946155\n"
     ]
    },
    {
     "name": "stderr",
     "output_type": "stream",
     "text": [
      " 12%|█▏        | 12/100 [00:08<00:54,  1.62it/s]"
     ]
    },
    {
     "name": "stdout",
     "output_type": "stream",
     "text": [
      "11\n",
      "file from folder\n",
      "Peak: 13 at time sample, Width = 7.8643199522048235 ms, SNR = 136.17373280692203\n"
     ]
    },
    {
     "name": "stderr",
     "output_type": "stream",
     "text": [
      " 13%|█▎        | 13/100 [00:08<00:56,  1.53it/s]"
     ]
    },
    {
     "name": "stdout",
     "output_type": "stream",
     "text": [
      "12\n",
      "file from folder\n",
      "Peak: 48 at time sample, Width = 17.694719368591905 ms, SNR = 762.669603977056\n"
     ]
    },
    {
     "name": "stderr",
     "output_type": "stream",
     "text": [
      " 14%|█▍        | 14/100 [00:09<01:07,  1.28it/s]"
     ]
    },
    {
     "name": "stdout",
     "output_type": "stream",
     "text": [
      "13\n",
      "file from folder\n",
      "Peak: 6 at time sample, Width = 0.9830399940256029 ms, SNR = 565.4991836547852\n"
     ]
    },
    {
     "name": "stderr",
     "output_type": "stream",
     "text": [
      " 15%|█▌        | 15/100 [00:10<01:02,  1.35it/s]"
     ]
    },
    {
     "name": "stdout",
     "output_type": "stream",
     "text": [
      "14\n",
      "file from folder\n",
      "Peak: 12 at time sample, Width = 2.9491198947653174 ms, SNR = 129.48895098997366\n"
     ]
    },
    {
     "name": "stderr",
     "output_type": "stream",
     "text": [
      " 16%|█▌        | 16/100 [00:11<00:58,  1.42it/s]"
     ]
    },
    {
     "name": "stdout",
     "output_type": "stream",
     "text": [
      "15\n",
      "file from folder\n",
      "Peak: 14 at time sample, Width = 9.83039994025603 ms, SNR = 117.79481616828322\n"
     ]
    },
    {
     "name": "stderr",
     "output_type": "stream",
     "text": [
      " 17%|█▋        | 17/100 [00:11<00:56,  1.47it/s]"
     ]
    },
    {
     "name": "stdout",
     "output_type": "stream",
     "text": [
      "16\n",
      "file from folder\n",
      "Peak: 12 at time sample, Width = 5.898239789530635 ms, SNR = 167.20674793345947\n"
     ]
    },
    {
     "name": "stderr",
     "output_type": "stream",
     "text": [
      " 18%|█▊        | 18/100 [00:12<00:53,  1.52it/s]"
     ]
    },
    {
     "name": "stdout",
     "output_type": "stream",
     "text": [
      "17\n",
      "file from folder\n",
      "Peak: 13 at time sample, Width = 3.9321600925177336 ms, SNR = 193.27867123484612\n"
     ]
    },
    {
     "name": "stderr",
     "output_type": "stream",
     "text": [
      " 19%|█▉        | 19/100 [00:12<00:52,  1.55it/s]"
     ]
    },
    {
     "name": "stdout",
     "output_type": "stream",
     "text": [
      "18\n",
      "file from folder\n",
      "Peak: 13 at time sample, Width = 2.9491198947653174 ms, SNR = 180.97551023699492\n"
     ]
    },
    {
     "name": "stderr",
     "output_type": "stream",
     "text": [
      " 20%|██        | 20/100 [00:13<00:51,  1.56it/s]"
     ]
    },
    {
     "name": "stdout",
     "output_type": "stream",
     "text": [
      "19\n",
      "file from folder\n",
      "Peak: 13 at time sample, Width = 1.966079929843545 ms, SNR = 170.61013951378834\n"
     ]
    },
    {
     "name": "stderr",
     "output_type": "stream",
     "text": [
      " 21%|██        | 21/100 [00:14<00:54,  1.45it/s]"
     ]
    },
    {
     "name": "stdout",
     "output_type": "stream",
     "text": [
      "20\n",
      "file from folder\n",
      "Peak: 29 at time sample, Width = 12.779519543983042 ms, SNR = 164.02311908888055\n"
     ]
    },
    {
     "name": "stderr",
     "output_type": "stream",
     "text": [
      " 22%|██▏       | 22/100 [00:15<01:02,  1.25it/s]"
     ]
    },
    {
     "name": "stdout",
     "output_type": "stream",
     "text": [
      "21\n",
      "file from folder\n",
      "Peak: 12 at time sample, Width = 4.915199824608862 ms, SNR = 208.56936261413574\n"
     ]
    },
    {
     "name": "stderr",
     "output_type": "stream",
     "text": [
      " 23%|██▎       | 23/100 [00:16<01:00,  1.28it/s]"
     ]
    },
    {
     "name": "stdout",
     "output_type": "stream",
     "text": [
      "22\n",
      "file from folder\n",
      "Peak: 9 at time sample, Width = 19.66079988051206 ms, SNR = 93.6582999282233\n"
     ]
    },
    {
     "name": "stderr",
     "output_type": "stream",
     "text": [
      " 24%|██▍       | 24/100 [00:17<01:00,  1.26it/s]"
     ]
    },
    {
     "name": "stdout",
     "output_type": "stream",
     "text": [
      "23\n",
      "file from folder\n",
      "Peak: 6 at time sample, Width = 0.9830399649217725 ms, SNR = 573.4602146148682\n"
     ]
    },
    {
     "name": "stderr",
     "output_type": "stream",
     "text": [
      " 25%|██▌       | 25/100 [00:17<01:00,  1.23it/s]"
     ]
    },
    {
     "name": "stdout",
     "output_type": "stream",
     "text": [
      "24\n",
      "file from folder\n",
      "Peak: 19 at time sample, Width = 6.881280009110924 ms, SNR = 181.97050441529004\n"
     ]
    },
    {
     "name": "stderr",
     "output_type": "stream",
     "text": [
      " 26%|██▌       | 26/100 [00:19<01:07,  1.09it/s]"
     ]
    },
    {
     "name": "stdout",
     "output_type": "stream",
     "text": [
      "25\n",
      "file from folder\n",
      "Peak: 6 at time sample, Width = 1.966080002603121 ms, SNR = 152.54514728347144\n"
     ]
    },
    {
     "name": "stderr",
     "output_type": "stream",
     "text": [
      " 27%|██▋       | 27/100 [00:19<01:02,  1.17it/s]"
     ]
    },
    {
     "name": "stdout",
     "output_type": "stream",
     "text": [
      "26\n",
      "file from folder\n",
      "Peak: 13 at time sample, Width = 1.9660800462588668 ms, SNR = 172.87967983230084\n"
     ]
    },
    {
     "name": "stderr",
     "output_type": "stream",
     "text": [
      " 28%|██▊       | 28/100 [00:20<01:01,  1.17it/s]"
     ]
    },
    {
     "name": "stdout",
     "output_type": "stream",
     "text": [
      "27\n",
      "file from folder\n"
     ]
    },
    {
     "name": "stderr",
     "output_type": "stream",
     "text": [
      " 29%|██▉       | 29/100 [00:21<01:00,  1.17it/s]"
     ]
    },
    {
     "name": "stdout",
     "output_type": "stream",
     "text": [
      "Peak: 12 at time sample, Width = 3.9321600925177336 ms, SNR = 191.69180738925934\n",
      "28\n",
      "file from folder\n",
      "Peak: 6 at time sample, Width = 0.9830400231294334 ms, SNR = 321.4101960659027\n"
     ]
    },
    {
     "name": "stderr",
     "output_type": "stream",
     "text": [
      " 30%|███       | 30/100 [00:22<00:59,  1.18it/s]"
     ]
    },
    {
     "name": "stdout",
     "output_type": "stream",
     "text": [
      "29\n",
      "file from folder\n"
     ]
    },
    {
     "name": "stderr",
     "output_type": "stream",
     "text": [
      " 31%|███       | 31/100 [00:23<00:58,  1.18it/s]"
     ]
    },
    {
     "name": "stdout",
     "output_type": "stream",
     "text": [
      "Peak: 13 at time sample, Width = 2.9491198947653174 ms, SNR = 288.1052841641455\n",
      "30\n",
      "file from folder\n"
     ]
    },
    {
     "name": "stderr",
     "output_type": "stream",
     "text": [
      " 32%|███▏      | 32/100 [00:24<00:57,  1.18it/s]"
     ]
    },
    {
     "name": "stdout",
     "output_type": "stream",
     "text": [
      "Peak: 12 at time sample, Width = 9.83039994025603 ms, SNR = 109.67145836211773\n",
      "31\n",
      "file from folder\n",
      "Peak: 23 at time sample, Width = 19.66079988051206 ms, SNR = 179.24163793735994\n"
     ]
    },
    {
     "name": "stderr",
     "output_type": "stream",
     "text": [
      " 33%|███▎      | 33/100 [00:25<01:02,  1.07it/s]"
     ]
    },
    {
     "name": "stdout",
     "output_type": "stream",
     "text": [
      "32\n",
      "file from folder\n",
      "Peak: 52 at time sample, Width = 58.982399641536176 ms, SNR = 231.55751646711875\n"
     ]
    },
    {
     "name": "stderr",
     "output_type": "stream",
     "text": [
      " 34%|███▍      | 34/100 [00:27<01:23,  1.26s/it]"
     ]
    },
    {
     "name": "stdout",
     "output_type": "stream",
     "text": [
      "33\n",
      "file from folder\n",
      "Peak: 52 at time sample, Width = 58.982399641536176 ms, SNR = 231.55751646711875\n"
     ]
    },
    {
     "name": "stderr",
     "output_type": "stream",
     "text": [
      " 35%|███▌      | 35/100 [00:27<01:11,  1.11s/it]"
     ]
    },
    {
     "name": "stdout",
     "output_type": "stream",
     "text": [
      "34\n",
      "file from folder\n",
      "Peak: 52 at time sample, Width = 58.982399641536176 ms, SNR = 231.55751646711875\n"
     ]
    },
    {
     "name": "stderr",
     "output_type": "stream",
     "text": [
      " 36%|███▌      | 36/100 [00:28<01:02,  1.02it/s]"
     ]
    },
    {
     "name": "stdout",
     "output_type": "stream",
     "text": [
      "35\n",
      "file from folder\n"
     ]
    },
    {
     "name": "stderr",
     "output_type": "stream",
     "text": [
      " 37%|███▋      | 37/100 [00:29<00:58,  1.08it/s]"
     ]
    },
    {
     "name": "stdout",
     "output_type": "stream",
     "text": [
      "Peak: 13 at time sample, Width = 2.9491198947653174 ms, SNR = 241.40526354104364\n",
      "36\n",
      "file from folder\n",
      "Peak: 6 at time sample, Width = 0.9830399976635817 ms, SNR = 175.7643912434578\n"
     ]
    },
    {
     "name": "stderr",
     "output_type": "stream",
     "text": [
      " 38%|███▊      | 38/100 [00:30<00:55,  1.12it/s]"
     ]
    },
    {
     "name": "stdout",
     "output_type": "stream",
     "text": [
      "37\n",
      "file from folder\n",
      "Peak: 16 at time sample, Width = 21.626880028634332 ms, SNR = 77.41576935260125\n"
     ]
    },
    {
     "name": "stderr",
     "output_type": "stream",
     "text": [
      " 39%|███▉      | 39/100 [00:31<00:59,  1.02it/s]"
     ]
    },
    {
     "name": "stdout",
     "output_type": "stream",
     "text": [
      "38\n",
      "file from folder\n",
      "Peak: 44 at time sample, Width = 14.745599910384044 ms, SNR = 209.35577271034808\n"
     ]
    },
    {
     "name": "stderr",
     "output_type": "stream",
     "text": [
      " 40%|████      | 40/100 [00:33<01:16,  1.28s/it]"
     ]
    },
    {
     "name": "stdout",
     "output_type": "stream",
     "text": [
      "39\n",
      "file from folder\n",
      "Peak: 22 at time sample, Width = 7.8643199522048235 ms, SNR = 48.43188140530831\n"
     ]
    },
    {
     "name": "stderr",
     "output_type": "stream",
     "text": [
      " 41%|████      | 41/100 [00:35<01:26,  1.46s/it]"
     ]
    },
    {
     "name": "stdout",
     "output_type": "stream",
     "text": [
      "40\n",
      "file from folder\n"
     ]
    },
    {
     "name": "stderr",
     "output_type": "stream",
     "text": [
      " 42%|████▏     | 42/100 [00:36<01:14,  1.28s/it]"
     ]
    },
    {
     "name": "stdout",
     "output_type": "stream",
     "text": [
      "Peak: 13 at time sample, Width = 3.9321600925177336 ms, SNR = 100.4983779489994\n",
      "41\n",
      "file from folder\n"
     ]
    },
    {
     "name": "stderr",
     "output_type": "stream",
     "text": [
      " 43%|████▎     | 43/100 [00:36<01:06,  1.16s/it]"
     ]
    },
    {
     "name": "stdout",
     "output_type": "stream",
     "text": [
      "Peak: 13 at time sample, Width = 2.949119982076809 ms, SNR = 252.34686590185007\n",
      "42\n",
      "file from folder\n",
      "Peak: 6 at time sample, Width = 0.9830399649217725 ms, SNR = 143.48003506660461\n"
     ]
    },
    {
     "name": "stderr",
     "output_type": "stream",
     "text": [
      " 44%|████▍     | 44/100 [00:37<00:58,  1.05s/it]"
     ]
    },
    {
     "name": "stdout",
     "output_type": "stream",
     "text": [
      "43\n",
      "file from folder\n",
      "Peak: 6 at time sample, Width = 0.9830400231294334 ms, SNR = 491.22515285015106\n"
     ]
    },
    {
     "name": "stderr",
     "output_type": "stream",
     "text": [
      " 45%|████▌     | 45/100 [00:38<00:54,  1.01it/s]"
     ]
    },
    {
     "name": "stdout",
     "output_type": "stream",
     "text": [
      "44\n",
      "file from folder\n"
     ]
    },
    {
     "name": "stderr",
     "output_type": "stream",
     "text": [
      " 46%|████▌     | 46/100 [00:39<00:51,  1.06it/s]"
     ]
    },
    {
     "name": "stdout",
     "output_type": "stream",
     "text": [
      "Peak: 13 at time sample, Width = 1.9660800462588668 ms, SNR = 165.53306995906303\n",
      "45\n",
      "file from folder\n"
     ]
    },
    {
     "name": "stderr",
     "output_type": "stream",
     "text": [
      " 47%|████▋     | 47/100 [00:40<00:47,  1.11it/s]"
     ]
    },
    {
     "name": "stdout",
     "output_type": "stream",
     "text": [
      "Peak: 12 at time sample, Width = 2.9491200693883 ms, SNR = 218.99411443976396\n",
      "46\n",
      "file from folder\n",
      "Peak: 20 at time sample, Width = 13.762560323812068 ms, SNR = 142.50491358592137\n"
     ]
    },
    {
     "name": "stderr",
     "output_type": "stream",
     "text": [
      " 48%|████▊     | 48/100 [00:41<00:51,  1.01it/s]"
     ]
    },
    {
     "name": "stdout",
     "output_type": "stream",
     "text": [
      "47\n",
      "file from folder\n",
      "Peak: 13 at time sample, Width = 1.9660800462588668 ms, SNR = 82.0018588616733\n"
     ]
    },
    {
     "name": "stderr",
     "output_type": "stream",
     "text": [
      " 49%|████▉     | 49/100 [00:42<00:48,  1.04it/s]"
     ]
    },
    {
     "name": "stdout",
     "output_type": "stream",
     "text": [
      "48\n",
      "file from folder\n"
     ]
    },
    {
     "name": "stderr",
     "output_type": "stream",
     "text": [
      " 50%|█████     | 50/100 [00:43<00:45,  1.09it/s]"
     ]
    },
    {
     "name": "stdout",
     "output_type": "stream",
     "text": [
      "Peak: 7 at time sample, Width = 1.9660801626741886 ms, SNR = 277.86604712784055\n",
      "49\n",
      "file from folder\n",
      "Peak: 13 at time sample, Width = 2.9491198947653174 ms, SNR = 95.98186870499885\n"
     ]
    },
    {
     "name": "stderr",
     "output_type": "stream",
     "text": [
      " 51%|█████     | 51/100 [00:43<00:40,  1.21it/s]"
     ]
    },
    {
     "name": "stdout",
     "output_type": "stream",
     "text": [
      "50\n",
      "file from folder\n",
      "Peak: 6 at time sample, Width = 0.9830399649217725 ms, SNR = 348.16572934389114\n"
     ]
    },
    {
     "name": "stderr",
     "output_type": "stream",
     "text": [
      " 52%|█████▏    | 52/100 [00:44<00:39,  1.22it/s]"
     ]
    },
    {
     "name": "stdout",
     "output_type": "stream",
     "text": [
      "51\n",
      "file from folder\n"
     ]
    },
    {
     "name": "stderr",
     "output_type": "stream",
     "text": [
      " 53%|█████▎    | 53/100 [00:45<00:38,  1.23it/s]"
     ]
    },
    {
     "name": "stdout",
     "output_type": "stream",
     "text": [
      "Peak: 12 at time sample, Width = 3.9321600925177336 ms, SNR = 101.53095149993896\n",
      "52\n",
      "file from folder\n",
      "Peak: 232 at time sample, Width = 103.21919631678611 ms, SNR = 302.10083015618164\n"
     ]
    },
    {
     "name": "stderr",
     "output_type": "stream",
     "text": [
      " 54%|█████▍    | 54/100 [00:53<02:11,  2.85s/it]"
     ]
    },
    {
     "name": "stdout",
     "output_type": "stream",
     "text": [
      "53\n",
      "file from folder\n",
      "Peak: 14 at time sample, Width = 3.93215985968709 ms, SNR = 131.05820834636688\n"
     ]
    },
    {
     "name": "stderr",
     "output_type": "stream",
     "text": [
      " 55%|█████▌    | 55/100 [00:53<01:40,  2.24s/it]"
     ]
    },
    {
     "name": "stdout",
     "output_type": "stream",
     "text": [
      "54\n",
      "file from folder\n",
      "Peak: 9 at time sample, Width = 5.8982401387766 ms, SNR = 152.77004680947712\n"
     ]
    },
    {
     "name": "stderr",
     "output_type": "stream",
     "text": [
      " 56%|█████▌    | 56/100 [00:54<01:18,  1.77s/it]"
     ]
    },
    {
     "name": "stdout",
     "output_type": "stream",
     "text": [
      "55\n",
      "file from folder\n",
      "Peak: 13 at time sample, Width = 2.9491198947653174 ms, SNR = 283.37293558411506\n"
     ]
    },
    {
     "name": "stderr",
     "output_type": "stream",
     "text": [
      " 57%|█████▋    | 57/100 [00:55<01:04,  1.50s/it]"
     ]
    },
    {
     "name": "stdout",
     "output_type": "stream",
     "text": [
      "56\n",
      "file from folder\n"
     ]
    },
    {
     "name": "stderr",
     "output_type": "stream",
     "text": [
      " 58%|█████▊    | 58/100 [00:56<00:54,  1.31s/it]"
     ]
    },
    {
     "name": "stdout",
     "output_type": "stream",
     "text": [
      "Peak: 13 at time sample, Width = 3.93215985968709 ms, SNR = 110.07915586233139\n",
      "57\n",
      "file from folder\n"
     ]
    },
    {
     "name": "stderr",
     "output_type": "stream",
     "text": [
      " 59%|█████▉    | 59/100 [00:57<00:47,  1.15s/it]"
     ]
    },
    {
     "name": "stdout",
     "output_type": "stream",
     "text": [
      "Peak: 12 at time sample, Width = 1.966079929843545 ms, SNR = 185.9859396828021\n",
      "58\n",
      "file from folder\n"
     ]
    },
    {
     "name": "stderr",
     "output_type": "stream",
     "text": [
      " 60%|██████    | 60/100 [00:57<00:41,  1.05s/it]"
     ]
    },
    {
     "name": "stdout",
     "output_type": "stream",
     "text": [
      "Peak: 13 at time sample, Width = 1.966079929843545 ms, SNR = 150.76164728442282\n",
      "59\n",
      "file from folder\n",
      "Peak: 28 at time sample, Width = 8.847360732033849 ms, SNR = 169.3288506665482\n"
     ]
    },
    {
     "name": "stderr",
     "output_type": "stream",
     "text": [
      " 61%|██████    | 61/100 [00:59<00:49,  1.27s/it]"
     ]
    },
    {
     "name": "stdout",
     "output_type": "stream",
     "text": [
      "60\n",
      "file from folder\n",
      "Peak: 101 at time sample, Width = 37.355518667027354 ms, SNR = 254.90463436813843\n"
     ]
    },
    {
     "name": "stderr",
     "output_type": "stream",
     "text": [
      " 62%|██████▏   | 62/100 [01:06<01:53,  3.00s/it]"
     ]
    },
    {
     "name": "stdout",
     "output_type": "stream",
     "text": [
      "61\n",
      "file from folder\n",
      "Peak: 6 at time sample, Width = 0.9830399649217725 ms, SNR = 570.7528156042099\n"
     ]
    },
    {
     "name": "stderr",
     "output_type": "stream",
     "text": [
      " 63%|██████▎   | 63/100 [01:07<01:26,  2.33s/it]"
     ]
    },
    {
     "name": "stdout",
     "output_type": "stream",
     "text": [
      "62\n",
      "file not in folder, downloading\n"
     ]
    },
    {
     "name": "stderr",
     "output_type": "stream",
     "text": [
      " 63%|██████▎   | 63/100 [03:23<01:59,  3.23s/it]\n"
     ]
    },
    {
     "ename": "PermissionError",
     "evalue": "[Errno 1] Operation not permitted: '/scratch/hugo_v//FRB20181018A_waterfall (1).h5'",
     "output_type": "error",
     "traceback": [
      "\u001b[0;31m---------------------------------------------------------------------------\u001b[0m",
      "\u001b[0;31mOSError\u001b[0m                                   Traceback (most recent call last)",
      "File \u001b[0;32m~/Bachelor project - Hugo Veldhuis/graph_profiles/notebooks/Graph_getter.py:59\u001b[0m, in \u001b[0;36mget_data\u001b[0;34m(burst_index_number)\u001b[0m\n\u001b[1;32m     58\u001b[0m \u001b[38;5;66;03m#data = h5py.File(Data_from_source, \"r\")\u001b[39;00m\n\u001b[0;32m---> 59\u001b[0m data \u001b[38;5;241m=\u001b[39m \u001b[43mh5py\u001b[49m\u001b[38;5;241;43m.\u001b[39;49m\u001b[43mFile\u001b[49m\u001b[43m(\u001b[49m\u001b[38;5;124;43mf\u001b[39;49m\u001b[38;5;124;43m\"\u001b[39;49m\u001b[38;5;132;43;01m{\u001b[39;49;00m\u001b[43mscratch_folder\u001b[49m\u001b[38;5;132;43;01m}\u001b[39;49;00m\u001b[38;5;132;43;01m{\u001b[39;49;00m\u001b[43mData_from_source\u001b[49m\u001b[38;5;132;43;01m}\u001b[39;49;00m\u001b[38;5;124;43m\"\u001b[39;49m\u001b[43m,\u001b[49m\u001b[43m \u001b[49m\u001b[38;5;124;43m\"\u001b[39;49m\u001b[38;5;124;43mr\u001b[39;49m\u001b[38;5;124;43m\"\u001b[39;49m\u001b[43m)\u001b[49m\n\u001b[1;32m     61\u001b[0m \u001b[38;5;28mprint\u001b[39m(\u001b[38;5;124m\"\u001b[39m\u001b[38;5;124mfile from folder\u001b[39m\u001b[38;5;124m\"\u001b[39m)\n",
      "File \u001b[0;32m/opt/conda/lib/python3.8/site-packages/h5py/_hl/files.py:444\u001b[0m, in \u001b[0;36mFile.__init__\u001b[0;34m(self, name, mode, driver, libver, userblock_size, swmr, rdcc_nslots, rdcc_nbytes, rdcc_w0, track_order, fs_strategy, fs_persist, fs_threshold, **kwds)\u001b[0m\n\u001b[1;32m    443\u001b[0m     fapl \u001b[38;5;241m=\u001b[39m make_fapl(driver, libver, rdcc_nslots, rdcc_nbytes, rdcc_w0, \u001b[38;5;241m*\u001b[39m\u001b[38;5;241m*\u001b[39mkwds)\n\u001b[0;32m--> 444\u001b[0m     fid \u001b[38;5;241m=\u001b[39m \u001b[43mmake_fid\u001b[49m\u001b[43m(\u001b[49m\u001b[43mname\u001b[49m\u001b[43m,\u001b[49m\u001b[43m \u001b[49m\u001b[43mmode\u001b[49m\u001b[43m,\u001b[49m\u001b[43m \u001b[49m\u001b[43muserblock_size\u001b[49m\u001b[43m,\u001b[49m\n\u001b[1;32m    445\u001b[0m \u001b[43m                   \u001b[49m\u001b[43mfapl\u001b[49m\u001b[43m,\u001b[49m\u001b[43m \u001b[49m\u001b[43mfcpl\u001b[49m\u001b[38;5;241;43m=\u001b[39;49m\u001b[43mmake_fcpl\u001b[49m\u001b[43m(\u001b[49m\u001b[43mtrack_order\u001b[49m\u001b[38;5;241;43m=\u001b[39;49m\u001b[43mtrack_order\u001b[49m\u001b[43m,\u001b[49m\u001b[43m \u001b[49m\u001b[43mfs_strategy\u001b[49m\u001b[38;5;241;43m=\u001b[39;49m\u001b[43mfs_strategy\u001b[49m\u001b[43m,\u001b[49m\n\u001b[1;32m    446\u001b[0m \u001b[43m                   \u001b[49m\u001b[43mfs_persist\u001b[49m\u001b[38;5;241;43m=\u001b[39;49m\u001b[43mfs_persist\u001b[49m\u001b[43m,\u001b[49m\u001b[43m \u001b[49m\u001b[43mfs_threshold\u001b[49m\u001b[38;5;241;43m=\u001b[39;49m\u001b[43mfs_threshold\u001b[49m\u001b[43m)\u001b[49m\u001b[43m,\u001b[49m\n\u001b[1;32m    447\u001b[0m \u001b[43m                   \u001b[49m\u001b[43mswmr\u001b[49m\u001b[38;5;241;43m=\u001b[39;49m\u001b[43mswmr\u001b[49m\u001b[43m)\u001b[49m\n\u001b[1;32m    449\u001b[0m \u001b[38;5;28;01mif\u001b[39;00m \u001b[38;5;28misinstance\u001b[39m(libver, \u001b[38;5;28mtuple\u001b[39m):\n",
      "File \u001b[0;32m/opt/conda/lib/python3.8/site-packages/h5py/_hl/files.py:199\u001b[0m, in \u001b[0;36mmake_fid\u001b[0;34m(name, mode, userblock_size, fapl, fcpl, swmr)\u001b[0m\n\u001b[1;32m    198\u001b[0m         flags \u001b[38;5;241m|\u001b[39m\u001b[38;5;241m=\u001b[39m h5f\u001b[38;5;241m.\u001b[39mACC_SWMR_READ\n\u001b[0;32m--> 199\u001b[0m     fid \u001b[38;5;241m=\u001b[39m \u001b[43mh5f\u001b[49m\u001b[38;5;241;43m.\u001b[39;49m\u001b[43mopen\u001b[49m\u001b[43m(\u001b[49m\u001b[43mname\u001b[49m\u001b[43m,\u001b[49m\u001b[43m \u001b[49m\u001b[43mflags\u001b[49m\u001b[43m,\u001b[49m\u001b[43m \u001b[49m\u001b[43mfapl\u001b[49m\u001b[38;5;241;43m=\u001b[39;49m\u001b[43mfapl\u001b[49m\u001b[43m)\u001b[49m\n\u001b[1;32m    200\u001b[0m \u001b[38;5;28;01melif\u001b[39;00m mode \u001b[38;5;241m==\u001b[39m \u001b[38;5;124m'\u001b[39m\u001b[38;5;124mr+\u001b[39m\u001b[38;5;124m'\u001b[39m:\n",
      "File \u001b[0;32mh5py/_objects.pyx:54\u001b[0m, in \u001b[0;36mh5py._objects.with_phil.wrapper\u001b[0;34m()\u001b[0m\n",
      "File \u001b[0;32mh5py/_objects.pyx:55\u001b[0m, in \u001b[0;36mh5py._objects.with_phil.wrapper\u001b[0;34m()\u001b[0m\n",
      "File \u001b[0;32mh5py/h5f.pyx:100\u001b[0m, in \u001b[0;36mh5py.h5f.open\u001b[0;34m()\u001b[0m\n",
      "\u001b[0;31mOSError\u001b[0m: Unable to open file (file signature not found)",
      "\nDuring handling of the above exception, another exception occurred:\n",
      "\u001b[0;31mOSError\u001b[0m                                   Traceback (most recent call last)",
      "File \u001b[0;32m/opt/conda/lib/python3.8/shutil.py:791\u001b[0m, in \u001b[0;36mmove\u001b[0;34m(src, dst, copy_function)\u001b[0m\n\u001b[1;32m    790\u001b[0m \u001b[38;5;28;01mtry\u001b[39;00m:\n\u001b[0;32m--> 791\u001b[0m     \u001b[43mos\u001b[49m\u001b[38;5;241;43m.\u001b[39;49m\u001b[43mrename\u001b[49m\u001b[43m(\u001b[49m\u001b[43msrc\u001b[49m\u001b[43m,\u001b[49m\u001b[43m \u001b[49m\u001b[43mreal_dst\u001b[49m\u001b[43m)\u001b[49m\n\u001b[1;32m    792\u001b[0m \u001b[38;5;28;01mexcept\u001b[39;00m \u001b[38;5;167;01mOSError\u001b[39;00m:\n",
      "\u001b[0;31mOSError\u001b[0m: [Errno 18] Invalid cross-device link: '/home/jovyan/Bachelor project - Hugo Veldhuis/graph_profiles/notebooks/FRB20181018A_waterfall.h5h8a8ulef.tmp' -> '/scratch/hugo_v//FRB20181018A_waterfall (1).h5'",
      "\nDuring handling of the above exception, another exception occurred:\n",
      "\u001b[0;31mPermissionError\u001b[0m                           Traceback (most recent call last)",
      "Input \u001b[0;32mIn [62]\u001b[0m, in \u001b[0;36m<cell line: 6>\u001b[0;34m()\u001b[0m\n\u001b[1;32m      7\u001b[0m pulsar \u001b[38;5;241m=\u001b[39m Pulsar(jname \u001b[38;5;241m=\u001b[39m data_catalog[\u001b[38;5;124m'\u001b[39m\u001b[38;5;124mtns_name\u001b[39m\u001b[38;5;124m'\u001b[39m][index], index \u001b[38;5;241m=\u001b[39m index)\n\u001b[1;32m      8\u001b[0m \u001b[38;5;66;03m#print(pulsar.jname)\u001b[39;00m\n\u001b[0;32m---> 10\u001b[0m plot_time, ts_full_list, model_ts_full_list, times_shorter, cal_ts_shorter, snr \u001b[38;5;241m=\u001b[39m \u001b[43mGet_me_FRB_data\u001b[49m\u001b[43m(\u001b[49m\u001b[43mindex\u001b[49m\u001b[43m)\u001b[49m\n\u001b[1;32m     12\u001b[0m obs\u001b[38;5;241m=\u001b[39mObservation(frequency\u001b[38;5;241m=\u001b[39m\u001b[38;5;241m600\u001b[39m, frequency_range\u001b[38;5;241m=\u001b[39m get_freq_range(\u001b[38;5;241m600\u001b[39m))\n\u001b[1;32m     14\u001b[0m obs\u001b[38;5;241m.\u001b[39mmodel \u001b[38;5;241m=\u001b[39m (model_ts_full_list \u001b[38;5;241m-\u001b[39m np\u001b[38;5;241m.\u001b[39mmin(model_ts_full_list)) \u001b[38;5;241m/\u001b[39m (np\u001b[38;5;241m.\u001b[39mmax(model_ts_full_list) \u001b[38;5;241m-\u001b[39m np\u001b[38;5;241m.\u001b[39mmin(model_ts_full_list))\n",
      "File \u001b[0;32m~/Bachelor project - Hugo Veldhuis/graph_profiles/notebooks/Graph_getter.py:155\u001b[0m, in \u001b[0;36mGet_me_FRB_data\u001b[0;34m(burst_index_number_input)\u001b[0m\n\u001b[1;32m    154\u001b[0m \u001b[38;5;28;01mdef\u001b[39;00m \u001b[38;5;21mGet_me_FRB_data\u001b[39m(burst_index_number_input):\n\u001b[0;32m--> 155\u001b[0m     data\u001b[38;5;241m=\u001b[39m \u001b[43mget_data\u001b[49m\u001b[43m(\u001b[49m\u001b[43mburst_index_number\u001b[49m\u001b[43m \u001b[49m\u001b[38;5;241;43m=\u001b[39;49m\u001b[43mburst_index_number_input\u001b[49m\u001b[43m)\u001b[49m\n\u001b[1;32m    156\u001b[0m     plot_time, ts_full_list, model_ts_full_list, times_shorter, cal_ts_shorter, snr \u001b[38;5;241m=\u001b[39m make_curves(data)\n\u001b[1;32m    157\u001b[0m     \u001b[38;5;28;01mreturn\u001b[39;00m plot_time, ts_full_list, model_ts_full_list, times_shorter, cal_ts_shorter, snr\n",
      "File \u001b[0;32m~/Bachelor project - Hugo Veldhuis/graph_profiles/notebooks/Graph_getter.py:66\u001b[0m, in \u001b[0;36mget_data\u001b[0;34m(burst_index_number)\u001b[0m\n\u001b[1;32m     64\u001b[0m \u001b[38;5;28;01mexcept\u001b[39;00m:\n\u001b[1;32m     65\u001b[0m     \u001b[38;5;28mprint\u001b[39m(\u001b[38;5;124m'\u001b[39m\u001b[38;5;124mfile not in folder, downloading\u001b[39m\u001b[38;5;124m'\u001b[39m)\n\u001b[0;32m---> 66\u001b[0m     Data_from_source \u001b[38;5;241m=\u001b[39m \u001b[43mwget\u001b[49m\u001b[38;5;241;43m.\u001b[39;49m\u001b[43mdownload\u001b[49m\u001b[43m(\u001b[49m\u001b[43murl\u001b[49m\u001b[43m,\u001b[49m\u001b[43m \u001b[49m\u001b[43mout\u001b[49m\u001b[38;5;241;43m=\u001b[39;49m\u001b[43mscratch_folder\u001b[49m\u001b[43m)\u001b[49m \u001b[38;5;66;03m#+example_tns+waterfall_string)\u001b[39;00m\n\u001b[1;32m     67\u001b[0m     data \u001b[38;5;241m=\u001b[39m h5py\u001b[38;5;241m.\u001b[39mFile(Data_from_source, \u001b[38;5;124m\"\u001b[39m\u001b[38;5;124mr\u001b[39m\u001b[38;5;124m\"\u001b[39m)\n\u001b[1;32m     69\u001b[0m \u001b[38;5;28;01mreturn\u001b[39;00m data\n",
      "File \u001b[0;32m~/.local/lib/python3.8/site-packages/wget.py:534\u001b[0m, in \u001b[0;36mdownload\u001b[0;34m(url, out, bar)\u001b[0m\n\u001b[1;32m    532\u001b[0m \u001b[38;5;28;01mif\u001b[39;00m os\u001b[38;5;241m.\u001b[39mpath\u001b[38;5;241m.\u001b[39mexists(filename):\n\u001b[1;32m    533\u001b[0m     filename \u001b[38;5;241m=\u001b[39m filename_fix_existing(filename)\n\u001b[0;32m--> 534\u001b[0m \u001b[43mshutil\u001b[49m\u001b[38;5;241;43m.\u001b[39;49m\u001b[43mmove\u001b[49m\u001b[43m(\u001b[49m\u001b[43mtmpfile\u001b[49m\u001b[43m,\u001b[49m\u001b[43m \u001b[49m\u001b[43mfilename\u001b[49m\u001b[43m)\u001b[49m\n\u001b[1;32m    536\u001b[0m \u001b[38;5;66;03m#print headers\u001b[39;00m\n\u001b[1;32m    537\u001b[0m \u001b[38;5;28;01mreturn\u001b[39;00m filename\n",
      "File \u001b[0;32m/opt/conda/lib/python3.8/shutil.py:811\u001b[0m, in \u001b[0;36mmove\u001b[0;34m(src, dst, copy_function)\u001b[0m\n\u001b[1;32m    809\u001b[0m         rmtree(src)\n\u001b[1;32m    810\u001b[0m     \u001b[38;5;28;01melse\u001b[39;00m:\n\u001b[0;32m--> 811\u001b[0m         \u001b[43mcopy_function\u001b[49m\u001b[43m(\u001b[49m\u001b[43msrc\u001b[49m\u001b[43m,\u001b[49m\u001b[43m \u001b[49m\u001b[43mreal_dst\u001b[49m\u001b[43m)\u001b[49m\n\u001b[1;32m    812\u001b[0m         os\u001b[38;5;241m.\u001b[39munlink(src)\n\u001b[1;32m    813\u001b[0m \u001b[38;5;28;01mreturn\u001b[39;00m real_dst\n",
      "File \u001b[0;32m/opt/conda/lib/python3.8/shutil.py:435\u001b[0m, in \u001b[0;36mcopy2\u001b[0;34m(src, dst, follow_symlinks)\u001b[0m\n\u001b[1;32m    433\u001b[0m \u001b[38;5;28;01mif\u001b[39;00m os\u001b[38;5;241m.\u001b[39mpath\u001b[38;5;241m.\u001b[39misdir(dst):\n\u001b[1;32m    434\u001b[0m     dst \u001b[38;5;241m=\u001b[39m os\u001b[38;5;241m.\u001b[39mpath\u001b[38;5;241m.\u001b[39mjoin(dst, os\u001b[38;5;241m.\u001b[39mpath\u001b[38;5;241m.\u001b[39mbasename(src))\n\u001b[0;32m--> 435\u001b[0m \u001b[43mcopyfile\u001b[49m\u001b[43m(\u001b[49m\u001b[43msrc\u001b[49m\u001b[43m,\u001b[49m\u001b[43m \u001b[49m\u001b[43mdst\u001b[49m\u001b[43m,\u001b[49m\u001b[43m \u001b[49m\u001b[43mfollow_symlinks\u001b[49m\u001b[38;5;241;43m=\u001b[39;49m\u001b[43mfollow_symlinks\u001b[49m\u001b[43m)\u001b[49m\n\u001b[1;32m    436\u001b[0m copystat(src, dst, follow_symlinks\u001b[38;5;241m=\u001b[39mfollow_symlinks)\n\u001b[1;32m    437\u001b[0m \u001b[38;5;28;01mreturn\u001b[39;00m dst\n",
      "File \u001b[0;32m/opt/conda/lib/python3.8/shutil.py:264\u001b[0m, in \u001b[0;36mcopyfile\u001b[0;34m(src, dst, follow_symlinks)\u001b[0m\n\u001b[1;32m    262\u001b[0m     os\u001b[38;5;241m.\u001b[39msymlink(os\u001b[38;5;241m.\u001b[39mreadlink(src), dst)\n\u001b[1;32m    263\u001b[0m \u001b[38;5;28;01melse\u001b[39;00m:\n\u001b[0;32m--> 264\u001b[0m     \u001b[38;5;28;01mwith\u001b[39;00m \u001b[38;5;28mopen\u001b[39m(src, \u001b[38;5;124m'\u001b[39m\u001b[38;5;124mrb\u001b[39m\u001b[38;5;124m'\u001b[39m) \u001b[38;5;28;01mas\u001b[39;00m fsrc, \u001b[38;5;28;43mopen\u001b[39;49m\u001b[43m(\u001b[49m\u001b[43mdst\u001b[49m\u001b[43m,\u001b[49m\u001b[43m \u001b[49m\u001b[38;5;124;43m'\u001b[39;49m\u001b[38;5;124;43mwb\u001b[39;49m\u001b[38;5;124;43m'\u001b[39;49m\u001b[43m)\u001b[49m \u001b[38;5;28;01mas\u001b[39;00m fdst:\n\u001b[1;32m    265\u001b[0m         \u001b[38;5;66;03m# macOS\u001b[39;00m\n\u001b[1;32m    266\u001b[0m         \u001b[38;5;28;01mif\u001b[39;00m _HAS_FCOPYFILE:\n\u001b[1;32m    267\u001b[0m             \u001b[38;5;28;01mtry\u001b[39;00m:\n",
      "\u001b[0;31mPermissionError\u001b[0m: [Errno 1] Operation not permitted: '/scratch/hugo_v//FRB20181018A_waterfall (1).h5'"
     ]
    }
   ],
   "source": [
    "from epn_mining.preparation.pulsar import Pulsar, Population, Observation\n",
    "\n",
    "population = Population()\n",
    "\n",
    "\n",
    "for index in tqdm(range(0,1)):\n",
    "    pulsar = Pulsar(jname = data_catalog['tns_name'][index], index = index)\n",
    "    #print(pulsar.jname)\n",
    "    \n",
    "    plot_time, ts_full_list, model_ts_full_list, times_shorter, cal_ts_shorter, snr = Get_me_FRB_data(index)\n",
    "    \n",
    "    obs=Observation(frequency=600, frequency_range= get_freq_range(600))\n",
    "    \n",
    "    obs.model = (model_ts_full_list - np.min(model_ts_full_list)) / (np.max(model_ts_full_list) - np.min(model_ts_full_list))\n",
    "    obs.profile = model_ts_full_list\n",
    "    obs.snr = snr\n",
    "    \n",
    "    \n",
    "    pulsar.add_observation(obs)\n",
    "    \n",
    "    population.add_pulsar(pulsar)\n",
    "    \n",
    "    print(index)"
   ]
  },
  {
   "cell_type": "code",
   "execution_count": 40,
   "id": "448e3d82-6bbf-46a7-9fa0-eb74c2786009",
   "metadata": {},
   "outputs": [],
   "source": [
    "save('population', population, state_prefix='FRB')"
   ]
  },
  {
   "cell_type": "code",
   "execution_count": null,
   "id": "78019d16-80d8-4712-af4e-f6b8128f27f9",
   "metadata": {},
   "outputs": [],
   "source": [
    "data_cal"
   ]
  },
  {
   "cell_type": "code",
   "execution_count": 12,
   "id": "97305e86-0c8b-4936-8de2-f5beff77be25",
   "metadata": {},
   "outputs": [],
   "source": [
    "# from epn_mining.topology import topology\n",
    "\n",
    "# # If you set the Observation frequency to 600 (MHz, central freq for CHIME), it will set the frequency id = 2\n",
    "# freq_ids_to_include = [2]\n",
    "\n",
    "# distances, \\\n",
    "# population_graph_indices, \\\n",
    "# graph_population_indices = topology.complete_undirected_weighted_graph(population,\n",
    "#                                                                        metric=metric,\n",
    "#                                                                        stokes_to_include=stokes_to_include,\n",
    "#                                                                        weights=weights,\n",
    "#                                                                        freq_ids_to_include=freq_ids_to_include,\n",
    "#                                                                        min_snr=min_snr,\n",
    "#                                                                        penalty=penalty,\n",
    "#                                                                        step_pattern=step_pattern,\n",
    "#                                                                        window_type=window_type,\n",
    "#                                                                        window_args=window_args,\n",
    "#                                                                        open_begin=open_begin,\n",
    "#                                                                        open_end=open_end,\n",
    "#                                                                        cropped=cropped,\n",
    "#                                                                        verbose=verbose)\n"
   ]
  },
  {
   "cell_type": "code",
   "execution_count": 11,
   "id": "1dd57629-efdc-4aae-a303-46b3cf5fb7d2",
   "metadata": {},
   "outputs": [],
   "source": [
    "population = load('population', state_prefix='FRB')\n"
   ]
  },
  {
   "cell_type": "code",
   "execution_count": 12,
   "id": "758b6478-52c6-4c5e-a216-3a41419c09e5",
   "metadata": {},
   "outputs": [
    {
     "data": {
      "text/plain": [
       "<epn_mining.preparation.pulsar.Population at 0x7f72bee12be0>"
      ]
     },
     "execution_count": 12,
     "metadata": {},
     "output_type": "execute_result"
    }
   ],
   "source": [
    "population"
   ]
  },
  {
   "cell_type": "code",
   "execution_count": null,
   "id": "506bd55c-0e86-4f6d-9c42-41525b0d06aa",
   "metadata": {},
   "outputs": [],
   "source": []
  }
 ],
 "metadata": {
  "kernelspec": {
   "display_name": "Python 3",
   "language": "python",
   "name": "python3"
  },
  "language_info": {
   "codemirror_mode": {
    "name": "ipython",
    "version": 3
   },
   "file_extension": ".py",
   "mimetype": "text/x-python",
   "name": "python",
   "nbconvert_exporter": "python",
   "pygments_lexer": "ipython3",
   "version": "3.8.10"
  }
 },
 "nbformat": 4,
 "nbformat_minor": 5
}
