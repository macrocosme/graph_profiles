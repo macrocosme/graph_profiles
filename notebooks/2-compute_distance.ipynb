{
 "cells": [
  {
   "cell_type": "code",
   "execution_count": 1,
   "id": "f3df33e1-17e3-40c7-a96f-cb7aa06cd431",
   "metadata": {},
   "outputs": [
    {
     "name": "stdout",
     "output_type": "stream",
     "text": [
      "Importing the dtw module. When using in academic works please cite:\n",
      "  T. Giorgino. Computing and Visualizing Dynamic Time Warping Alignments in R: The dtw Package.\n",
      "  J. Stat. Soft., doi:10.18637/jss.v031.i07.\n",
      "\n"
     ]
    }
   ],
   "source": [
    "%load_ext autoreload\n",
    "%autoreload 2\n",
    "%config InlineBackend.figure_format='retina'\n",
    "\n",
    "import os\n",
    "import sys\n",
    "import time\n",
    "from multiprocessing import Process, Pool\n",
    "import warnings\n",
    "warnings.simplefilter('ignore')\n",
    "\n",
    "# Add module path to system path\n",
    "module_paths = ['..', \n",
    "                '../..',\n",
    "                '../../extern/PsrPopPy',\n",
    "                # '/Users/vohl/opt/miniconda3/lib/python3.9/site-packages'\n",
    "                # '/Users/vohl/miniconda3/lib/python3.10/site-packages'\n",
    "               ]\n",
    "for module_path in module_paths:\n",
    "    if os.path.abspath(os.path.join(module_path)) not in sys.path:\n",
    "        sys.path.insert(0, module_path)\n",
    "    \n",
    "    \n",
    "# For convenience\n",
    "import numpy as np\n",
    "import pickle\n",
    "\n",
    "import pandas as pd\n",
    "\n",
    "from epn_mining.main import load_states\n",
    "\n",
    "from epn_mining.utils.io import load, save\n",
    "\n",
    "from epn_mining.preparation import epn\n",
    "from epn_mining.preparation.pulsar import Population, Observation, Pulsar, Model, Component\n",
    "from epn_mining.topology import topology\n",
    "from epn_mining.analysis.stats import (\n",
    "    centroid as compute_centroid,\n",
    "    profile_as_distribution,\n",
    "    evaluate_DPGMM,\n",
    "    convert_x_to_phase\n",
    ")\n",
    "from epn_mining.analysis import stats\n",
    "from epn_mining.analysis.distance import (check_bound, check_min_max, check_neg)\n",
    "\n",
    "from epn_mining.preparation.signal import (\n",
    "    shift_max_to_center, \n",
    "    shift_centroid_to_center,\n",
    "    rotate,\n",
    "    best_alignment\n",
    ")\n",
    "\n",
    "from epn_mining.analysis import plotting\n",
    "\n",
    "import matplotlib.pyplot as plt\n",
    "from mpl_toolkits.axes_grid1.inset_locator import inset_axes\n",
    "from mpl_toolkits import axes_grid1\n",
    "from matplotlib import rc\n",
    "from matplotlib import style, collections as mc, colors, cm\n",
    "\n",
    "style.use('default')\n",
    "\n",
    "style.use('default')\n",
    "\n",
    "import json\n",
    "from sklearn import mixture\n",
    "from scipy.stats import norm\n",
    "from joblib import parallel_backend\n",
    "from tqdm import tqdm\n",
    "\n",
    "# from dtaidistance import dtw\n",
    "\n",
    "from dtw import dtw\n",
    "\n",
    "import astropy.coordinates as coord\n",
    "import astropy.units as u\n",
    "from astropy.coordinates import SkyCoord\n",
    "\n",
    "import copy\n",
    "\n",
    "# Set session variables\n",
    "verbose = True\n",
    "state_store=True\n",
    "\n",
    "pink = (230/255, 29/255, 95/255, 1)\n",
    "blue = (47/255, 161/255, 214/255, 0.2)\n",
    "blue_full = (47/255, 161/255, 214/255, 1)\n",
    "\n",
    "cmap = cm.get_cmap('cubehelix').reversed()"
   ]
  },
  {
   "cell_type": "code",
   "execution_count": 2,
   "id": "47eb7f6d-216d-41cc-9e39-fbdb23b202a6",
   "metadata": {},
   "outputs": [],
   "source": [
    "# state_prefix='paper_stokes_I'\n",
    "# state_prefix = 'paper_not_normalized_stokes_I_only'\n",
    "state_prefix = 'paper'\n",
    "\n",
    "epn_metadata = load('epn_metadata', state_prefix=state_prefix)\n",
    "population = load('population', state_prefix=state_prefix)"
   ]
  },
  {
   "cell_type": "code",
   "execution_count": 3,
   "id": "0cafbfb2-644f-4d3e-8c39-f0c52b3f87c9",
   "metadata": {},
   "outputs": [
    {
     "name": "stdout",
     "output_type": "stream",
     "text": [
      "state_name 4bin_graph_asymmetric_sakoechiba_model\n"
     ]
    }
   ],
   "source": [
    "metric = 'DTW'\n",
    "stokes_to_include = [ 'model' ]\n",
    "weights = {k:w for k,w in zip(stokes_to_include, [1, 0.5, 0.5])}\n",
    "freq_ids_to_include = [2,3,4,5]\n",
    "\n",
    "_4freqs_ = True if len(freq_ids_to_include) > 1 else False\n",
    "\n",
    "# freq_ids_to_include = [2,4]\n",
    "min_snr = 20\n",
    "\n",
    "from dtw import rabinerJuangStepPattern\n",
    "\n",
    "penalty = None\n",
    "step_pattern = 'asymmetric' # rabinerJuangStepPattern(6, \"d\") # 'symmetric2'#'symmetricP05' #['', 'symmetric2']\n",
    "window_type  = 'sakoechiba' #['sakoechiba', None]\n",
    "window_args  = {'window_size': 256} #{'window_size': 512} #[{'window_size':204}, {}]\n",
    "open_begin   = False #[False, True, True]\n",
    "open_end     = False #[False, True, True]\n",
    "\n",
    "# state_name = None\n",
    "state_name = '%sbin%s_graph_%s%s_%s' % (len(freq_ids_to_include) if _4freqs_ else '',\n",
    "                                             '' if _4freqs_ else 's' + str(freq_ids_to_include[0]),\n",
    "                                             step_pattern, \n",
    "                                             '_%s' % window_type if window_type is not None else '',                 \n",
    "                                             stokes_to_include[0]\n",
    "                                            )\n",
    "\n",
    "cropped = False\n",
    "verbose = True\n",
    "\n",
    "print ('state_name', state_name)"
   ]
  },
  {
   "cell_type": "code",
   "execution_count": 15,
   "id": "20984105-a0ad-4f1c-83ac-121c2d945c67",
   "metadata": {},
   "outputs": [
    {
     "name": "stdout",
     "output_type": "stream",
     "text": [
      "Make weighted graph\n"
     ]
    },
    {
     "name": "stderr",
     "output_type": "stream",
     "text": [
      "100%|████████████████████████████████████████████████████████████████████████████████████████████████████████████████████████████████████████████████████| 95/95 [04:21<00:00,  2.75s/it]"
     ]
    },
    {
     "name": "stdout",
     "output_type": "stream",
     "text": [
      "complete graph: |e| = 4560\n"
     ]
    },
    {
     "name": "stderr",
     "output_type": "stream",
     "text": [
      "\n"
     ]
    }
   ],
   "source": [
    "distances, \\\n",
    "population_graph_indices, \\\n",
    "graph_population_indices = topology.complete_undirected_weighted_graph(population,\n",
    "                                                                       metric=metric,\n",
    "                                                                       stokes_to_include=stokes_to_include,\n",
    "                                                                       weights=weights,\n",
    "                                                                       freq_ids_to_include=freq_ids_to_include,\n",
    "                                                                       min_snr=min_snr,\n",
    "                                                                       penalty=penalty,\n",
    "                                                                       step_pattern=step_pattern,\n",
    "                                                                       window_type=window_type,\n",
    "                                                                       window_args=window_args,\n",
    "                                                                       open_begin=open_begin,\n",
    "                                                                       open_end=open_end,\n",
    "                                                                       cropped=cropped,\n",
    "                                                                       verbose=verbose)"
   ]
  },
  {
   "cell_type": "code",
   "execution_count": 17,
   "id": "f3ca3210-8ef7-42ca-90f2-bcd97e36bcf2",
   "metadata": {},
   "outputs": [],
   "source": [
    "save(state_name, #'4bins_graph', \n",
    "     [distances, population_graph_indices, graph_population_indices], \n",
    "     protocol=pickle.DEFAULT_PROTOCOL,\n",
    "     state_prefix=state_prefix)"
   ]
  },
  {
   "cell_type": "code",
   "execution_count": 16,
   "id": "50b5b44d-8c7d-4128-931c-337838c64968",
   "metadata": {},
   "outputs": [],
   "source": [
    "for v, n in zip(\n",
    "    [distances, population_graph_indices, graph_population_indices],\n",
    "    ['distances', 'population_graph_indices', 'graph_population_indices'],\n",
    "):\n",
    "    save(n, \n",
    "         v, \n",
    "         protocol=pickle.DEFAULT_PROTOCOL,\n",
    "         state_prefix=state_prefix)"
   ]
  },
  {
   "cell_type": "code",
   "execution_count": 6,
   "id": "9315d828-bb28-4302-9bc3-e90b5bfcb223",
   "metadata": {},
   "outputs": [
    {
     "name": "stdout",
     "output_type": "stream",
     "text": [
      "Compute minimum spanning tree\n",
      "Compute longest path in minimum spanning tree\n"
     ]
    }
   ],
   "source": [
    "mst = topology.spanning_tree(distances, type='minimum', verbose=verbose)\n",
    "sequence_population, sequence_indices, mst = topology.longest_path(mst,\n",
    "                                                                   population.as_array(),\n",
    "                                                                   graph_population_indices,\n",
    "                                                                   verbose=verbose)\n",
    "elongation, normalized_elongation  =  mst.elongation()\n",
    "\n",
    "elongation_dict = {}\n",
    "elongation_dict[state_prefix] = {'elongation' : elongation,\n",
    "                                 'normalized_elongation' : normalized_elongation,\n",
    "                                 'length': mst.length(),\n",
    "                                 'half_width': mst.half_width(),\n",
    "                                 'longest_path' : len(sequence_population),\n",
    "                                 'N' : mst.V}"
   ]
  },
  {
   "cell_type": "code",
   "execution_count": null,
   "id": "9adab414-e0f7-4ff1-8473-bb89814ddda5",
   "metadata": {},
   "outputs": [],
   "source": [
    "save(state_name, \n",
    "     [distances, population_graph_indices, graph_population_indices], \n",
    "     protocol=pickle.DEFAULT_PROTOCOL,\n",
    "     state_prefix=state_prefix)"
   ]
  }
 ],
 "metadata": {
  "kernelspec": {
   "display_name": "Python 3 (ipykernel)",
   "language": "python",
   "name": "python3"
  },
  "language_info": {
   "codemirror_mode": {
    "name": "ipython",
    "version": 3
   },
   "file_extension": ".py",
   "mimetype": "text/x-python",
   "name": "python",
   "nbconvert_exporter": "python",
   "pygments_lexer": "ipython3",
   "version": "3.9.15"
  }
 },
 "nbformat": 4,
 "nbformat_minor": 5
}
