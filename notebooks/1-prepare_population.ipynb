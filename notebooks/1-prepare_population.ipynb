{
 "cells": [
  {
   "cell_type": "code",
   "execution_count": 1,
   "metadata": {},
   "outputs": [
    {
     "name": "stdout",
     "output_type": "stream",
     "text": [
      "Importing the dtw module. When using in academic works please cite:\n",
      "  T. Giorgino. Computing and Visualizing Dynamic Time Warping Alignments in R: The dtw Package.\n",
      "  J. Stat. Soft., doi:10.18637/jss.v031.i07.\n",
      "\n"
     ]
    }
   ],
   "source": [
    "%load_ext autoreload\n",
    "%autoreload 2\n",
    "%config InlineBackend.figure_format='retina'\n",
    "\n",
    "import os\n",
    "import sys\n",
    "import time\n",
    "from multiprocessing import Process, Pool\n",
    "import warnings\n",
    "warnings.simplefilter('ignore')\n",
    "\n",
    "# Add module path to system path\n",
    "module_paths = ['..', \n",
    "                '../..',\n",
    "                '../../extern/PsrPopPy',\n",
    "                # '/Users/vohl/opt/miniconda3/lib/python3.9/site-packages'\n",
    "                # '/Users/vohl/miniconda3/lib/python3.10/site-packages'\n",
    "               ]\n",
    "for module_path in module_paths:\n",
    "    if os.path.abspath(os.path.join(module_path)) not in sys.path:\n",
    "        sys.path.insert(0, module_path)\n",
    "    \n",
    "    \n",
    "# For convenience\n",
    "import numpy as np\n",
    "import pickle\n",
    "\n",
    "import pandas as pd\n",
    "\n",
    "from epn_mining.main import load_states, save, load\n",
    "from epn_mining.preparation import epn\n",
    "from epn_mining.preparation.pulsar import Population, Observation, Pulsar, Model, Component\n",
    "from epn_mining.topology import topology\n",
    "from epn_mining.analysis.stats import (\n",
    "    centroid as compute_centroid,\n",
    "    profile_as_distribution,\n",
    "    evaluate_DPGMM,\n",
    "    convert_x_to_phase\n",
    ")\n",
    "from epn_mining.analysis import stats\n",
    "from epn_mining.analysis.distance import (check_bound, check_min_max, check_neg)\n",
    "\n",
    "from epn_mining.preparation.signal import (\n",
    "    shift_max_to_center, \n",
    "    shift_centroid_to_center,\n",
    "    rotate,\n",
    "    best_alignment\n",
    ")\n",
    "\n",
    "from epn_mining.analysis import plotting\n",
    "\n",
    "import matplotlib.pyplot as plt\n",
    "from mpl_toolkits.axes_grid1.inset_locator import inset_axes\n",
    "from mpl_toolkits import axes_grid1\n",
    "from matplotlib import rc\n",
    "from matplotlib import style, collections as mc, colors, cm\n",
    "\n",
    "style.use('default')\n",
    "\n",
    "style.use('default')\n",
    "\n",
    "import json\n",
    "from sklearn import mixture\n",
    "from scipy.stats import norm\n",
    "from joblib import parallel_backend\n",
    "from tqdm import tqdm\n",
    "\n",
    "# from dtaidistance import dtw\n",
    "\n",
    "from dtw import dtw\n",
    "\n",
    "import astropy.coordinates as coord\n",
    "import astropy.units as u\n",
    "from astropy.coordinates import SkyCoord\n",
    "\n",
    "import copy\n",
    "\n",
    "# Set session variables\n",
    "verbose = True\n",
    "state_store=True\n",
    "\n",
    "pink = (230/255, 29/255, 95/255, 1)\n",
    "blue = (47/255, 161/255, 214/255, 0.2)\n",
    "blue_full = (47/255, 161/255, 214/255, 1)\n",
    "\n",
    "cmap = cm.get_cmap('cubehelix').reversed()"
   ]
  },
  {
   "cell_type": "code",
   "execution_count": null,
   "metadata": {},
   "outputs": [],
   "source": [
    "# Else start from scratch\n",
    "reference = None\n",
    "stokes = 'I' #'IQUV'\n",
    "exclude_references = ['gl97', 'mhq97']\n",
    "input_type='json'\n",
    "verbose = True\n",
    "\n",
    "epn_metadata = epn.load_epn_metadata(base_path = '../../www.epta.eu.org/epndb/json',\n",
    "                                     reference=reference,\n",
    "                                     exclude_references=exclude_references,\n",
    "                                     stokes=stokes,\n",
    "                                     # input_type=input_type,\n",
    "                                     verbose=verbose)"
   ]
  },
  {
   "cell_type": "code",
   "execution_count": null,
   "metadata": {},
   "outputs": [],
   "source": [
    "state_prefix='paper_stokes_I'\n",
    "epn_metadata = load('epn_metadata', state_prefix=state_prefix)"
   ]
  },
  {
   "cell_type": "code",
   "execution_count": null,
   "metadata": {},
   "outputs": [],
   "source": [
    "epn_metadata.loc[epn_metadata['jname'] == 'J0437-4715', 'bname'].values[0]"
   ]
  },
  {
   "cell_type": "code",
   "execution_count": null,
   "metadata": {},
   "outputs": [],
   "source": [
    "epn_metadata"
   ]
  },
  {
   "cell_type": "code",
   "execution_count": null,
   "metadata": {},
   "outputs": [],
   "source": [
    "normalize = True\n",
    "shift = False\n",
    "resize = True\n",
    "remove_baseline = False\n",
    "\n",
    "population, epn_metadata  = epn.load_epn_data(epn_metadata,\n",
    "                                              shift=shift,\n",
    "                                              normalize=normalize,\n",
    "                                              remove_baseline=remove_baseline,\n",
    "                                              resize=resize,\n",
    "                                              verbose=verbose)\n",
    "\n",
    "# state_prefix = 'paper_not_normalized_stokes_I_only'\n",
    "# save('epn_metadata', epn_metadata, state_prefix=state_prefix)\n",
    "# save('population', population, state_prefix=state_prefix)"
   ]
  },
  {
   "cell_type": "code",
   "execution_count": null,
   "metadata": {},
   "outputs": [],
   "source": [
    "population.as_array().size\n",
    "# for pulsar in population.as_array():\n",
    "    # print (pulsar.jname, pulsar.observations.keys())"
   ]
  },
  {
   "cell_type": "code",
   "execution_count": null,
   "metadata": {},
   "outputs": [],
   "source": [
    "# Keep pulsars with observations in bins of interest\n",
    "min_snr = 20\n",
    "freqs_to_include = [2,3,4,5]\n",
    "ref_to_fix = ['wcl+99']\n",
    "\n",
    "for pulsar in population.as_array():\n",
    "    keep = True\n",
    "    for f in freqs_to_include:\n",
    "        keep &= f in pulsar.observations.keys()\n",
    "    if not keep:\n",
    "        del population.pulsars[pulsar.jname]\n",
    "    else:\n",
    "        for f in freqs_to_include:\n",
    "            if pulsar.observations[f].snr < min_snr:\n",
    "                if pulsar.jname in population.pulsars.keys():\n",
    "                    del population.pulsars[pulsar.jname]\n",
    "                    \n",
    "# Add meta to population\n",
    "# for pulsar in population.as_array():\n",
    "#     name_cond = epn_metadata['jname'] == pulsar.jname\n",
    "#     pulsar.period = epn_metadata.loc[name_cond, 'P0'.lower()].values[0]\n",
    "#     pulsar.period_derivative = epn_metadata.loc[name_cond, 'P1'.lower()].values[0]\n",
    "#     pulsar.spindown_energy = epn_metadata.loc[name_cond, 'EDOT'.lower()].values[0]\n",
    "#     pulsar.bsurf = epn_metadata.loc[name_cond, 'BSURF'.lower()].values[0]\n",
    "#     pulsar.w10 = epn_metadata.loc[name_cond, 'W10'.lower()].values[0]\n",
    "#     pulsar.raj = epn_metadata.loc[name_cond, 'RAJ'.lower()].values[0]\n",
    "#     pulsar.decj = epn_metadata.loc[name_cond, 'DECJ'.lower()].values[0]\n",
    "#     pulsar.gl = epn_metadata.loc[name_cond, 'GL'.lower()].values[0]\n",
    "#     pulsar.gb = epn_metadata.loc[name_cond, 'GB'.lower()].values[0]\n",
    "\n",
    "# Invert Stokes V where necessary\n",
    "# for pulsar in population.as_array():\n",
    "#     for f in freqs_to_include:\n",
    "#         if pulsar.observations[f].epn_reference_code in ref_to_fix:\n",
    "#             pulsar.observations[f].stokes_V = -pulsar.observations[f].stokes_V\n",
    "#         if pulsar.jname in ['J0332+5434', 'J1239+2453'] and f == 4 and pulsar.observations[f].epn_reference_code == 'hx97b':\n",
    "#             pulsar.observations[f].stokes_V = -pulsar.observations[f].stokes_V\n",
    "#         if pulsar.jname == 'J0826+2637' and f == 5 and pulsar.observations[f].epn_reference_code == 'hx97b':\n",
    "#             pulsar.observations[f].stokes_V = -pulsar.observations[f].stokes_V\n",
    "            \n",
    "# Align J1857+0943 freq 5 to other bins\n",
    "def fix(pulsar, f_ref, f):\n",
    "    shift = best_alignment(pulsar.observations[f_ref].stokes_I, \n",
    "                           pulsar.observations[f].stokes_I)\n",
    "    pulsar.observations[f].stokes_I = rotate(pulsar.observations[f].stokes_I, shift)\n",
    "    # pulsar.observations[f].stokes_Q = rotate(pulsar.observations[f].stokes_Q, shift)\n",
    "    # pulsar.observations[f].stokes_U = rotate(pulsar.observations[f].stokes_U, shift)\n",
    "    # pulsar.observations[f].stokes_V = rotate(pulsar.observations[f].stokes_V, shift)\n",
    "    # pulsar.observations[f].stokes_L = rotate(pulsar.observations[f].stokes_L, shift)\n",
    "    # pulsar.observations[f].position_angle = rotate(pulsar.observations[f].position_angle, shift)\n",
    "    # pulsar.observations[f].position_angle_yerr_low = rotate(pulsar.observations[f].position_angle_yerr_low, shift)\n",
    "    # pulsar.observations[f].position_angle_yerr_high = rotate(pulsar.observations[f].position_angle_yerr_high, shift)\n",
    "    pulsar.observations[f].set_centroid()\n",
    "    pulsar.observations[f].set_fwhm()\n",
    "        \n",
    "    return pulsar\n",
    "\n",
    "\n",
    "# jname = 'J1857+0943'\n",
    "# pulsar = population.pulsars[jname]\n",
    "# ref = 4\n",
    "# f = 5\n",
    "# pulsar = fix(pulsar, ref, f)\n",
    "\n",
    "# jname = 'J1803-2137'\n",
    "# for f in [2, 5]:\n",
    "#     pulsar = population.pulsars[jname]\n",
    "#     fix(pulsar, ref, f)"
   ]
  },
  {
   "cell_type": "code",
   "execution_count": null,
   "metadata": {},
   "outputs": [],
   "source": [
    "# print (population.as_array().size)\n",
    "# for pulsar in population.as_array():\n",
    "#     for f in freqs_to_include:\n",
    "#         try:\n",
    "#             print (pulsar.observations[f].model_agd)\n",
    "#         except:\n",
    "#             print ('nope.')\n",
    "#     print ()"
   ]
  },
  {
   "cell_type": "markdown",
   "metadata": {},
   "source": [
    "# Find which pulsars still need fitting"
   ]
  },
  {
   "cell_type": "code",
   "execution_count": null,
   "metadata": {},
   "outputs": [],
   "source": [
    "# state_prefix = 'paper'\n",
    "# epn_metadata = load('epn_metadata', state_prefix=state_prefix, folder='../states/')\n",
    "_population = load('population_agd_firstgo_0_001__1__5', state_prefix=state_prefix, folder='../states/')"
   ]
  },
  {
   "cell_type": "code",
   "execution_count": null,
   "metadata": {},
   "outputs": [],
   "source": [
    "to_fit = []\n",
    "for p in population.pulsars.keys():\n",
    "    if p not in list(_population.pulsars.keys()):\n",
    "        to_fit.append(p)\n",
    "    else:\n",
    "        population.pulsars[p] = copy.deepcopy(_population.pulsars[p])\n",
    "        \n",
    "to_fit"
   ]
  },
  {
   "cell_type": "code",
   "execution_count": null,
   "metadata": {},
   "outputs": [],
   "source": [
    "# Save current state with previous fits\n",
    "save('population', population, state_prefix=state_prefix)"
   ]
  },
  {
   "cell_type": "code",
   "execution_count": null,
   "metadata": {},
   "outputs": [],
   "source": [
    "# Gausspy related (to be incorporated to epn_mining later)\n",
    "\n",
    "import gausspy.gp as gp\n",
    "\n",
    "from epn_mining.analysis.stats import robust_statistics, median_of_medians, median_of_stdevs, snr\n",
    "from epn_mining.utils.io import state_full_location, set_state_name\n",
    "\n",
    "def gaussian(amp, fwhm, mean):\n",
    "    return lambda x: amp * np.exp(-4. * np.log(2) * (x-mean)**2 / fwhm**2)\n",
    "    \n",
    "def unravel(list):\n",
    "    return np.array([i for array in list for i in array])\n",
    "\n",
    "def _set(x, y, y_err, data:list={}):\n",
    "    data['data_list'] = data.get('data_list', []) + [y]\n",
    "    data['x_values'] = data.get('x_values', []) + [x]\n",
    "    data['errors'] = data.get('errors', []) + [y_err]\n",
    "    return data\n",
    "\n",
    "def set_n_save_data(obs:Observation, data={}, variable='data', state_prefix='', \n",
    "                    verbose=False):\n",
    "    data = _set(\n",
    "        data = data,\n",
    "        x = obs.phase, \n",
    "        y = obs.stokes_I,\n",
    "        y_err = np.ones(obs.phase.size) * median_of_stdevs(obs.stokes_I)\n",
    "    )\n",
    "    \n",
    "    save(variable, data, state_prefix=state_prefix, verbose=verbose)\n",
    "\n",
    "def autonomous_gaussian_decomposition(state_prefix='', \n",
    "                                      variable='observation', \n",
    "                                      alpha1=1., \n",
    "                                      alpha2=None,\n",
    "                                      snr_thresh=5.,\n",
    "                                      return_data=True,\n",
    "                                      train=False,\n",
    "                                      verbose=False):    \n",
    "    # init\n",
    "    g = gp.GaussianDecomposer()\n",
    "\n",
    "    # AGD parameters\n",
    "    g.set('phase', 'one' if alpha2 is None else 'two')\n",
    "    g.set('SNR_thresh', [snr_thresh, snr_thresh])\n",
    "    g.set('alpha1', alpha1)\n",
    "    if alpha2 is not None:\n",
    "        g.set('alpha2', alpha2)\n",
    "\n",
    "    # decompose\n",
    "    data_decomp = g.batch_decomposition(\n",
    "        science_data_path=state_full_location(state_prefix, variable)\n",
    "    )\n",
    "\n",
    "    return data_decomp\n",
    "\n",
    "def components_arrays(obs):\n",
    "    components = [gaussian(amp, fwhm, mu)(obs.phase) for i, (mu, fwhm, amp) in enumerate(zip(\n",
    "        unravel(obs.model_agd['means_fit']),\n",
    "        unravel(obs.model_agd['fwhms_fit']),\n",
    "        unravel(obs.model_agd['amplitudes_fit']),\n",
    "    ))]\n",
    "    \n",
    "    return components\n",
    "\n",
    "def model_array(obs):\n",
    "    for i, component in enumerate(components_arrays(obs)):\n",
    "        model = component if i==0 else model + component\n",
    "        \n",
    "    model = (model - model.min()) / (model.max() - model.min())\n",
    "        \n",
    "    return model\n"
   ]
  },
  {
   "cell_type": "code",
   "execution_count": null,
   "metadata": {},
   "outputs": [],
   "source": [
    "# Run gausspy fit on all\n",
    "\n",
    "freqs_to_include = [2, 3, 4, 5]\n",
    "verbose=False\n",
    "\n",
    "compute_grid = True\n",
    "\n",
    "# Fitted alpha1, alpha2\n",
    "# alpha1, alpha2 = -0.4, 0.73\n",
    "snr_thresh=5.\n",
    "for jname in tqdm(population_agd.fitted_later):\n",
    "    pulsar = population.pulsars[jname]\n",
    "    print (jname)\n",
    "    for f in freqs_to_include:\n",
    "        print (f)\n",
    "        obs = pulsar.observations[f]\n",
    "        variable = 'observation'\n",
    "        set_n_save_data(obs, \n",
    "                        variable=variable, \n",
    "                        state_prefix=state_prefix,\n",
    "                        verbose=verbose)\n",
    "        \n",
    "        if not compute_grid:\n",
    "            obs.model_agd = autonomous_gaussian_decomposition(state_prefix=state_prefix, \n",
    "                                                              variable=variable, \n",
    "                                                              alpha1=alpha1,\n",
    "                                                              alpha2=alpha2,\n",
    "                                                              snr_thresh=snr_thresh,\n",
    "                                                              verbose=False)\n",
    "            obs.model_agd['alpha1'] = alpha1\n",
    "            obs.model_agd['alpha2'] = alpha2\n",
    "        else:\n",
    "            alpha_grid = {\n",
    "                f\"{alpha:.3f}\": autonomous_gaussian_decomposition(state_prefix=state_prefix, \n",
    "                                                           variable=variable, \n",
    "                                                           alpha1=0.7,\n",
    "                                                           alpha2=alpha,\n",
    "                                                           snr_thresh=5.,\n",
    "                                                           verbose=False) \\\n",
    "                for alpha in tqdm(np.arange(0.001, 1., .05))\n",
    "            }\n",
    "\n",
    "            a_i = np.argmin([alpha_grid[a]['best_fit_rchi2'][0][0] for a in alpha_grid.keys()])\n",
    "            alpha1 = float(list(alpha_grid.keys())[a_i])\n",
    "\n",
    "            alpha_grid = {\n",
    "                f\"{alpha:.3f}\": autonomous_gaussian_decomposition(state_prefix=state_prefix, \n",
    "                                                           variable=variable, \n",
    "                                                           alpha1=alpha1,\n",
    "                                                           alpha2=alpha,\n",
    "                                                           snr_thresh=5.,\n",
    "                                                           verbose=False) \\\n",
    "                for alpha in tqdm(np.arange(0.001, 1., .05))\n",
    "            }\n",
    "\n",
    "            a_i = np.argmin([alpha_grid[a]['best_fit_rchi2'][0][0] for a in alpha_grid.keys()])\n",
    "            obs.model_agd = alpha_grid[list(alpha_grid.keys())[a_i]]\n",
    "            # Add alphas to object\n",
    "    print ()\n",
    "        \n",
    "save('population_agd', population, state_prefix=state_prefix)"
   ]
  },
  {
   "cell_type": "code",
   "execution_count": null,
   "metadata": {},
   "outputs": [],
   "source": [
    "population.pulsars['J1713+0747'].observations[2].s"
   ]
  },
  {
   "cell_type": "code",
   "execution_count": null,
   "metadata": {},
   "outputs": [],
   "source": [
    "# DPGMM Model fitting\n",
    "\n",
    "for pulsar in tqdm(population.as_array()):\n",
    "    snrs = np.array([[pulsar.observations[f].snr, f] for f in freqs_to_include])\n",
    "    freqs_snr_sorted = snrs[np.argsort(snrs, axis=0).T[0]][::-1].T[1]\n",
    "    for i, f in enumerate(freqs_to_include):       \n",
    "        pulsar.observations[f].set_model(\n",
    "            'stokes_I', \n",
    "            alpha=10**4,\n",
    "            threshold=True,\n",
    "            n_components=30,\n",
    "            cut=False, \n",
    "            scale=True,\n",
    "            # mean_prior=None if i==0 else pulsar.observations[freqs_snr_sorted[0]].gmm.mean_prior_,\n",
    "            # mean_precision_prior=None if i==0 else pulsar.observations[freqs_snr_sorted[0]].gmm.mean_precision_prior_,\n",
    "            fwhm=pulsar.observations[freqs_snr_sorted[0]].fwhm,\n",
    "            override=True\n",
    "        )\n",
    "        \n",
    "save('population', population, state_prefix=state_prefix)"
   ]
  },
  {
   "cell_type": "code",
   "execution_count": 2,
   "metadata": {},
   "outputs": [],
   "source": [
    "state_prefix='paper'\n",
    "population = load('population', state_prefix=state_prefix)"
   ]
  },
  {
   "cell_type": "code",
   "execution_count": null,
   "metadata": {},
   "outputs": [],
   "source": [
    "save('population', population, state_prefix=state_prefix)"
   ]
  },
  {
   "cell_type": "code",
   "execution_count": null,
   "metadata": {},
   "outputs": [],
   "source": [
    "with_interpulse = ['J1705-1906', 'J1825-0935', 'J1857+0943', 'J1932+1059', 'J1939+2134', 'J0534+2200']\n",
    "\n",
    "to_be_refitted = ['J2145-0750']\n",
    "\n",
    "# Plot individual pulsars\n",
    "\n",
    "blue_full = (47/255, 161/255, 214/255, 1)\n",
    "freqs_to_include = [2,3,4,5]\n",
    "# population = population_agd\n",
    "\n",
    "# for pulsar in tqdm(population.as_array()):\n",
    "# for jname in with_interpulse:\n",
    "for jname in to_be_refitted:\n",
    "    pulsar = population.pulsars[jname]\n",
    "\n",
    "    fig, _ax = plt.subplots(2, 4, figsize=(15, 5), sharex=True)\n",
    "\n",
    "    for i, f in enumerate(freqs_to_include):\n",
    "        \n",
    "        if f in pulsar.observations:\n",
    "            obs = pulsar.observations[f]\n",
    "            \n",
    "            ax = _ax[0, i]\n",
    "            # ax.plot(obs.phase, model_array(copy.deepcopy(obs)), color=blue_full)\n",
    "            ax.plot(obs.phase, obs.model, color=blue_full)\n",
    "            ax.plot(obs.phase, obs.stokes_I, color='black', linestyle=':', zorder=1000)\n",
    "            ax.set_title(f\"{f} {obs.frequency:.0f}MHz ({obs.epn_reference_code}) S/N:{obs.snr:.0f}\")\n",
    "            \n",
    "            # ax.plot(obs.phase, obs.stokes_V, color='black', linestyle=':', zorder=1000)\n",
    "            # ax.plot(obs.phase, obs.stokes_L, color='black', linestyle=':', zorder=1000)\n",
    "            \n",
    "            ax = _ax[1, i]\n",
    "            ax.plot(obs.phase, np.sqrt((obs.model - obs.stokes_I)**2), color='black')\n",
    "        \n",
    "        _ax[0, 0].set_ylabel(f'$I$ (arb. unit)')\n",
    "        _ax[1, 0].set_ylabel(r\"$\\sqrt{(x-\\overline{x})^2}$\")\n",
    "        for ax in _ax[1, :]:\n",
    "            ax.set_xlabel(f'$\\phi$')            \n",
    "            # ax.annotate(f\"{obs.model_agd['best_fit_rchi2'][0][0]:.2f}\", [0.1, 0.9], xycoords='axes fraction')\n",
    "\n",
    "    plt.suptitle(f\"{pulsar.jname} {pulsar.bname}\", fontsize='x-large')\n",
    "    plt.tight_layout()\n",
    "    plt.savefig(f'images/all_freq_bins_stokes_I/{pulsar.jname}.pdf')"
   ]
  },
  {
   "cell_type": "code",
   "execution_count": null,
   "metadata": {},
   "outputs": [],
   "source": [
    "# Plot individual pulsars\n",
    "\n",
    "#After re-fit\n",
    "\n",
    "blue_full = (47/255, 161/255, 214/255, 1)\n",
    "\n",
    "for jname in tqdm(population_agd.fitted_later, total=len(population_agd.fitted_later)):\n",
    "    pulsar = population.pulsars[jname]\n",
    "\n",
    "    fig, _ax = plt.subplots(2, 4, figsize=(15, 5))\n",
    "\n",
    "    for i, f in enumerate(freqs_to_include):\n",
    "        \n",
    "        if f in pulsar.observations:\n",
    "            obs = pulsar.observations[f]\n",
    "            \n",
    "            ax = _ax[0, i]\n",
    "            ax.plot(obs.phase, model_array(copy.deepcopy(obs)), color=blue_full)\n",
    "            ax.plot(obs.phase, obs.stokes_I, color='black', linestyle=':', zorder=1000)\n",
    "            ax.set_title(f\"{f} {obs.frequency:.0f}MHz ({obs.epn_reference_code}) S/N:{obs.snr:.0f}\")\n",
    "            \n",
    "            # ax.plot(obs.phase, obs.stokes_V, color='black', linestyle=':', zorder=1000)\n",
    "            # ax.plot(obs.phase, obs.stokes_L, color='black', linestyle=':', zorder=1000)\n",
    "            \n",
    "            ax = _ax[1, i]\n",
    "            ax.plot(obs.phase, model_array(copy.deepcopy(obs)) - obs.stokes_I, color='black')\n",
    "            ax.annotate(f\"{obs.model_agd['best_fit_rchi2'][0][0]:.2f}\", [0.1, 0.9], xycoords='axes fraction')\n",
    "\n",
    "    plt.suptitle(f\"{pulsar.jname} {pulsar.bname}\", fontsize='x-large')\n",
    "    plt.tight_layout()\n",
    "    plt.savefig(f'images/all_freq_bins_stokes_I/{pulsar.jname}.pdf')"
   ]
  },
  {
   "cell_type": "code",
   "execution_count": 15,
   "metadata": {},
   "outputs": [],
   "source": [
    "# save('epn_metadata', epn_metadata, state_prefix=state_prefix)\n",
    "# print (state_prefix)\n",
    "save('population', population, state_prefix=state_prefix)"
   ]
  },
  {
   "cell_type": "code",
   "execution_count": null,
   "metadata": {},
   "outputs": [],
   "source": [
    "def fix(pulsar, f_ref, f):\n",
    "    shift = best_alignment(pulsar.observations[f_ref].stokes_I, \n",
    "                           pulsar.observations[f].stokes_I)\n",
    "    pulsar.observations[f].stokes_I = rotate(pulsar.observations[f].stokes_I, shift)\n",
    "    # pulsar.observations[f].stokes_Q = rotate(pulsar.observations[f].stokes_Q, shift)\n",
    "    # pulsar.observations[f].stokes_U = rotate(pulsar.observations[f].stokes_U, shift)\n",
    "    # pulsar.observations[f].stokes_V = rotate(pulsar.observations[f].stokes_V, shift)\n",
    "    # pulsar.observations[f].stokes_L = rotate(pulsar.observations[f].stokes_L, shift)\n",
    "    # pulsar.observations[f].position_angle = rotate(pulsar.observations[f].position_angle, shift)\n",
    "    # pulsar.observations[f].position_angle_yerr_low = rotate(pulsar.observations[f].position_angle_yerr_low, shift)\n",
    "    # pulsar.observations[f].position_angle_yerr_high = rotate(pulsar.observations[f].position_angle_yerr_high, shift)\n",
    "    pulsar.observations[f].set_centroid()\n",
    "    pulsar.observations[f].set_fwhm()\n",
    "        \n",
    "    return pulsar\n",
    "\n",
    "\n",
    "jname = 'J2145-0750'\n",
    "population.pulsars[jname] = fix(population.pulsars[jname], 4, 2)"
   ]
  },
  {
   "cell_type": "code",
   "execution_count": null,
   "metadata": {},
   "outputs": [],
   "source": [
    "population = load('population', state_prefix=state_prefix)"
   ]
  },
  {
   "cell_type": "code",
   "execution_count": null,
   "metadata": {},
   "outputs": [],
   "source": [
    "population.fitted_later = to_fit"
   ]
  },
  {
   "cell_type": "code",
   "execution_count": null,
   "metadata": {},
   "outputs": [],
   "source": [
    "population.fitted_later"
   ]
  },
  {
   "cell_type": "code",
   "execution_count": null,
   "metadata": {},
   "outputs": [],
   "source": [
    "chi_squares = np.array([[p.observations[f].model_agd['best_fit_rchi2'][0][0] for f in freqs_to_include] for p in population.as_array()])"
   ]
  },
  {
   "cell_type": "code",
   "execution_count": null,
   "metadata": {},
   "outputs": [],
   "source": [
    "population.as_array()[0].observations[2].model_agd['best_fit_rchi2'][0][0]"
   ]
  },
  {
   "cell_type": "code",
   "execution_count": null,
   "metadata": {},
   "outputs": [],
   "source": [
    "fig, ax = plt.subplots(4, 1, sharey=True, sharex=True)\n",
    "for i in range(4):\n",
    "    ax[i].plot(chi_squares.T[i])\n",
    "    ax[i].set_yscale('log')"
   ]
  },
  {
   "cell_type": "code",
   "execution_count": null,
   "metadata": {},
   "outputs": [],
   "source": [
    "fig, ax = plt.subplots(4, 1, sharey=True, sharex=True)\n",
    "chi_s = np.array([[p.observations[f].model_agd['best_fit_rchi2'][0][0] for f in freqs_to_include] for p in population.as_array()])\n",
    "for i in range(4):\n",
    "    ax[i].plot(chi_s.T[i])\n",
    "    ax[i].set_yscale('log')"
   ]
  },
  {
   "cell_type": "code",
   "execution_count": null,
   "metadata": {},
   "outputs": [],
   "source": [
    "for pulsar in population.as_array():\n",
    "    print (np.sum(model_array(pulsar.observations[2]) - model_array(pulsar.observations[3])))"
   ]
  },
  {
   "cell_type": "code",
   "execution_count": null,
   "metadata": {},
   "outputs": [],
   "source": [
    "obs.model_agd['means_fit']"
   ]
  },
  {
   "cell_type": "code",
   "execution_count": null,
   "metadata": {},
   "outputs": [],
   "source": [
    "state_prefix='paper'\n",
    "population_agd = load('population_agd', state_prefix=state_prefix)\n",
    "population = load('population', state_prefix=state_prefix)"
   ]
  },
  {
   "cell_type": "code",
   "execution_count": null,
   "metadata": {},
   "outputs": [],
   "source": [
    "p = population_agd.fitted_later[0]\n",
    "\n",
    "fig, ax = plt.subplots(1, 5, figsize=(10, 3))\n",
    "\n",
    "for i, f in enumerate(freqs_to_include):\n",
    "    obs = population_agd.pulsars[p].observations[f]\n",
    "    ax[i].plot(obs.phase, obs.stokes_I, c='orange', linestyle='--', zorder=1000)\n",
    "    # ax[i].plot(obs.phase, model_array(population_agd.pulsars[p].observations[f]), 'black')\n",
    "    ax[i].plot(obs.phase, model_array(population.pulsars[p].observations[f]))\n",
    "\n",
    "for f in freqs_to_include:\n",
    "    sc = ax[-1].plot(obs.phase, model_array(population.pulsars[p].observations[f]), label=f)\n",
    "plt.legend()\n",
    "    "
   ]
  },
  {
   "cell_type": "code",
   "execution_count": null,
   "metadata": {},
   "outputs": [],
   "source": [
    "p = population_agd.fitted_later[0]\n",
    "population_agd.pulsars[p].observations[2].model_agd"
   ]
  },
  {
   "cell_type": "code",
   "execution_count": null,
   "metadata": {},
   "outputs": [],
   "source": [
    "population.as_array()"
   ]
  },
  {
   "cell_type": "code",
   "execution_count": null,
   "metadata": {},
   "outputs": [],
   "source": [
    "population_agd.fitted_later"
   ]
  },
  {
   "cell_type": "code",
   "execution_count": null,
   "metadata": {},
   "outputs": [],
   "source": [
    "population_agd = load('population_agd', state_prefix=state_prefix)"
   ]
  },
  {
   "cell_type": "code",
   "execution_count": null,
   "metadata": {},
   "outputs": [],
   "source": []
  },
  {
   "cell_type": "code",
   "execution_count": 12,
   "metadata": {},
   "outputs": [],
   "source": [
    "# Initialize population with Rankin's classes \n",
    "epn_metadata = load('epn_metadata', state_prefix=state_prefix)\n",
    "\n",
    "df_rankin = pd.read_csv('../rankin-classification.csv')\n",
    "df_rankin['Class'] = df_rankin['Class'].fillna('N/A')\n",
    "df_rankin['Code'] = df_rankin['Code'].fillna('N/A')"
   ]
  },
  {
   "cell_type": "code",
   "execution_count": 13,
   "metadata": {},
   "outputs": [],
   "source": [
    "for p in population.as_array():\n",
    "    try:\n",
    "        p.bname = epn_metadata.loc[epn_metadata['jname'] == p.jname, 'bname'].values[0]\n",
    "        p.morphological_class = df_rankin.loc[df_rankin['JNAME'] == p.jname, 'Class'].values[0]\n",
    "        p.morphological_code = df_rankin.loc[df_rankin['JNAME'] == p.jname, 'Code'].values[0]\n",
    "    except IndexError:\n",
    "        p.morphological_class = 'N/A'\n",
    "        p.morphological_code = 'N/A'\n",
    "#     print (p.jname, p.bname)\n"
   ]
  },
  {
   "cell_type": "code",
   "execution_count": 14,
   "metadata": {},
   "outputs": [
    {
     "data": {
      "text/plain": [
       "array(['Conal single', 'Core single', 'Conal double', 'Triple',\n",
       "       'Multiple', 'N/A'], dtype=object)"
      ]
     },
     "execution_count": 14,
     "metadata": {},
     "output_type": "execute_result"
    }
   ],
   "source": [
    "df_rankin['Class'].unique()"
   ]
  },
  {
   "cell_type": "code",
   "execution_count": null,
   "metadata": {},
   "outputs": [],
   "source": [
    "df_rankin"
   ]
  },
  {
   "cell_type": "code",
   "execution_count": null,
   "metadata": {},
   "outputs": [],
   "source": [
    "save()"
   ]
  }
 ],
 "metadata": {
  "kernelspec": {
   "display_name": "Python 3 (ipykernel)",
   "language": "python",
   "name": "python3"
  },
  "language_info": {
   "codemirror_mode": {
    "name": "ipython",
    "version": 3
   },
   "file_extension": ".py",
   "mimetype": "text/x-python",
   "name": "python",
   "nbconvert_exporter": "python",
   "pygments_lexer": "ipython3",
   "version": "3.9.15"
  }
 },
 "nbformat": 4,
 "nbformat_minor": 4
}
