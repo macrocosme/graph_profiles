{
 "cells": [
  {
   "cell_type": "code",
   "execution_count": 4,
   "metadata": {},
   "outputs": [],
   "source": [
    "import numpy as np\n",
    "import pandas as pd\n",
    "import matplotlib.pyplot as plt\n",
    "from matplotlib import gridspec\n",
    "\n",
    "import cfod\n",
    "from cfod import catalog\n",
    "from cfod.routines import waterfaller\n",
    "\n",
    "import h5py\n",
    "import scipy\n",
    "import wget"
   ]
  },
  {
   "cell_type": "code",
   "execution_count": 21,
   "metadata": {},
   "outputs": [],
   "source": []
  },
  {
   "cell_type": "markdown",
   "metadata": {},
   "source": [
    "#Goal:\n",
    "\n",
    "- find first burst repeaters\n",
    "- streamline getting the graphs out\n",
    "- find way of getting the data files (not manually) -> wget usage maybe"
   ]
  },
  {
   "cell_type": "code",
   "execution_count": 43,
   "metadata": {},
   "outputs": [
    {
     "data": {
      "text/html": [
       "<div>\n",
       "<style scoped>\n",
       "    .dataframe tbody tr th:only-of-type {\n",
       "        vertical-align: middle;\n",
       "    }\n",
       "\n",
       "    .dataframe tbody tr th {\n",
       "        vertical-align: top;\n",
       "    }\n",
       "\n",
       "    .dataframe thead th {\n",
       "        text-align: right;\n",
       "    }\n",
       "</style>\n",
       "<table border=\"1\" class=\"dataframe\">\n",
       "  <thead>\n",
       "    <tr style=\"text-align: right;\">\n",
       "      <th></th>\n",
       "      <th>tns_name</th>\n",
       "      <th>previous_name</th>\n",
       "      <th>repeater_name</th>\n",
       "      <th>ra</th>\n",
       "      <th>ra_err</th>\n",
       "      <th>ra_notes</th>\n",
       "      <th>dec</th>\n",
       "      <th>dec_err</th>\n",
       "      <th>dec_notes</th>\n",
       "      <th>gl</th>\n",
       "      <th>...</th>\n",
       "      <th>width_fitb</th>\n",
       "      <th>width_fitb_err</th>\n",
       "      <th>sp_idx</th>\n",
       "      <th>sp_idx_err</th>\n",
       "      <th>sp_run</th>\n",
       "      <th>sp_run_err</th>\n",
       "      <th>high_freq</th>\n",
       "      <th>low_freq</th>\n",
       "      <th>peak_freq</th>\n",
       "      <th>excluded_flag</th>\n",
       "    </tr>\n",
       "  </thead>\n",
       "  <tbody>\n",
       "    <tr>\n",
       "      <th>0</th>\n",
       "      <td>FRB20180725A</td>\n",
       "      <td>180725.J0613+67</td>\n",
       "      <td>-9999</td>\n",
       "      <td>93.42</td>\n",
       "      <td>0.039</td>\n",
       "      <td>-9999</td>\n",
       "      <td>67.07</td>\n",
       "      <td>0.210</td>\n",
       "      <td>-9999</td>\n",
       "      <td>147.29</td>\n",
       "      <td>...</td>\n",
       "      <td>0.000296</td>\n",
       "      <td>0.000076</td>\n",
       "      <td>38.20</td>\n",
       "      <td>3.70</td>\n",
       "      <td>-45.80</td>\n",
       "      <td>4.20</td>\n",
       "      <td>760.1</td>\n",
       "      <td>485.3</td>\n",
       "      <td>607.4</td>\n",
       "      <td>1</td>\n",
       "    </tr>\n",
       "    <tr>\n",
       "      <th>1</th>\n",
       "      <td>FRB20180727A</td>\n",
       "      <td>180727.J1311+26</td>\n",
       "      <td>-9999</td>\n",
       "      <td>197.72</td>\n",
       "      <td>0.130</td>\n",
       "      <td>-9999</td>\n",
       "      <td>26.42</td>\n",
       "      <td>0.260</td>\n",
       "      <td>-9999</td>\n",
       "      <td>24.76</td>\n",
       "      <td>...</td>\n",
       "      <td>0.00139</td>\n",
       "      <td>0.000170</td>\n",
       "      <td>3.80</td>\n",
       "      <td>1.80</td>\n",
       "      <td>-9.20</td>\n",
       "      <td>3.00</td>\n",
       "      <td>800.2</td>\n",
       "      <td>400.2</td>\n",
       "      <td>493.3</td>\n",
       "      <td>1</td>\n",
       "    </tr>\n",
       "    <tr>\n",
       "      <th>2</th>\n",
       "      <td>FRB20180729A</td>\n",
       "      <td>180729.J1316+55</td>\n",
       "      <td>-9999</td>\n",
       "      <td>199.40</td>\n",
       "      <td>0.120</td>\n",
       "      <td>-9999</td>\n",
       "      <td>55.58</td>\n",
       "      <td>0.084</td>\n",
       "      <td>-9999</td>\n",
       "      <td>115.26</td>\n",
       "      <td>...</td>\n",
       "      <td>&lt;0.00010</td>\n",
       "      <td>-9999.000000</td>\n",
       "      <td>16.46</td>\n",
       "      <td>0.24</td>\n",
       "      <td>-30.21</td>\n",
       "      <td>0.38</td>\n",
       "      <td>692.7</td>\n",
       "      <td>400.2</td>\n",
       "      <td>525.6</td>\n",
       "      <td>1</td>\n",
       "    </tr>\n",
       "    <tr>\n",
       "      <th>3</th>\n",
       "      <td>FRB20180729B</td>\n",
       "      <td>180729.J0558+56</td>\n",
       "      <td>-9999</td>\n",
       "      <td>89.93</td>\n",
       "      <td>0.270</td>\n",
       "      <td>-9999</td>\n",
       "      <td>56.50</td>\n",
       "      <td>0.240</td>\n",
       "      <td>-9999</td>\n",
       "      <td>156.90</td>\n",
       "      <td>...</td>\n",
       "      <td>0.000314</td>\n",
       "      <td>0.000083</td>\n",
       "      <td>14.50</td>\n",
       "      <td>3.50</td>\n",
       "      <td>-14.60</td>\n",
       "      <td>3.50</td>\n",
       "      <td>800.2</td>\n",
       "      <td>441.8</td>\n",
       "      <td>657.5</td>\n",
       "      <td>1</td>\n",
       "    </tr>\n",
       "    <tr>\n",
       "      <th>4</th>\n",
       "      <td>FRB20180730A</td>\n",
       "      <td>180730.J0353+87</td>\n",
       "      <td>-9999</td>\n",
       "      <td>57.39</td>\n",
       "      <td>0.032</td>\n",
       "      <td>-9999</td>\n",
       "      <td>87.19</td>\n",
       "      <td>0.200</td>\n",
       "      <td>-9999</td>\n",
       "      <td>125.11</td>\n",
       "      <td>...</td>\n",
       "      <td>0.000468</td>\n",
       "      <td>0.000040</td>\n",
       "      <td>4.27</td>\n",
       "      <td>0.30</td>\n",
       "      <td>-11.31</td>\n",
       "      <td>0.48</td>\n",
       "      <td>759.2</td>\n",
       "      <td>400.2</td>\n",
       "      <td>483.5</td>\n",
       "      <td>1</td>\n",
       "    </tr>\n",
       "    <tr>\n",
       "      <th>...</th>\n",
       "      <td>...</td>\n",
       "      <td>...</td>\n",
       "      <td>...</td>\n",
       "      <td>...</td>\n",
       "      <td>...</td>\n",
       "      <td>...</td>\n",
       "      <td>...</td>\n",
       "      <td>...</td>\n",
       "      <td>...</td>\n",
       "      <td>...</td>\n",
       "      <td>...</td>\n",
       "      <td>...</td>\n",
       "      <td>...</td>\n",
       "      <td>...</td>\n",
       "      <td>...</td>\n",
       "      <td>...</td>\n",
       "      <td>...</td>\n",
       "      <td>...</td>\n",
       "      <td>...</td>\n",
       "      <td>...</td>\n",
       "      <td>...</td>\n",
       "    </tr>\n",
       "    <tr>\n",
       "      <th>595</th>\n",
       "      <td>FRB20190701A</td>\n",
       "      <td>-9999</td>\n",
       "      <td>-9999</td>\n",
       "      <td>277.47</td>\n",
       "      <td>0.210</td>\n",
       "      <td>-9999</td>\n",
       "      <td>59.04</td>\n",
       "      <td>0.220</td>\n",
       "      <td>-9999</td>\n",
       "      <td>88.29</td>\n",
       "      <td>...</td>\n",
       "      <td>0.000608</td>\n",
       "      <td>0.000057</td>\n",
       "      <td>-1.10</td>\n",
       "      <td>1.50</td>\n",
       "      <td>3.30</td>\n",
       "      <td>1.90</td>\n",
       "      <td>800.2</td>\n",
       "      <td>400.2</td>\n",
       "      <td>800.2</td>\n",
       "      <td>0</td>\n",
       "    </tr>\n",
       "    <tr>\n",
       "      <th>596</th>\n",
       "      <td>FRB20190701B</td>\n",
       "      <td>-9999</td>\n",
       "      <td>-9999</td>\n",
       "      <td>302.93</td>\n",
       "      <td>0.220</td>\n",
       "      <td>-9999</td>\n",
       "      <td>80.18</td>\n",
       "      <td>0.240</td>\n",
       "      <td>-9999</td>\n",
       "      <td>112.88</td>\n",
       "      <td>...</td>\n",
       "      <td>0.00063</td>\n",
       "      <td>0.000130</td>\n",
       "      <td>3.90</td>\n",
       "      <td>1.70</td>\n",
       "      <td>-11.80</td>\n",
       "      <td>3.10</td>\n",
       "      <td>732.8</td>\n",
       "      <td>400.2</td>\n",
       "      <td>471.5</td>\n",
       "      <td>0</td>\n",
       "    </tr>\n",
       "    <tr>\n",
       "      <th>597</th>\n",
       "      <td>FRB20190701C</td>\n",
       "      <td>-9999</td>\n",
       "      <td>-9999</td>\n",
       "      <td>96.36</td>\n",
       "      <td>0.230</td>\n",
       "      <td>-9999</td>\n",
       "      <td>81.63</td>\n",
       "      <td>0.270</td>\n",
       "      <td>-9999</td>\n",
       "      <td>132.18</td>\n",
       "      <td>...</td>\n",
       "      <td>0.00144</td>\n",
       "      <td>0.000160</td>\n",
       "      <td>46.20</td>\n",
       "      <td>9.00</td>\n",
       "      <td>-211.00</td>\n",
       "      <td>41.00</td>\n",
       "      <td>495.5</td>\n",
       "      <td>402.2</td>\n",
       "      <td>446.4</td>\n",
       "      <td>0</td>\n",
       "    </tr>\n",
       "    <tr>\n",
       "      <th>598</th>\n",
       "      <td>FRB20190701D</td>\n",
       "      <td>-9999</td>\n",
       "      <td>-9999</td>\n",
       "      <td>112.10</td>\n",
       "      <td>0.180</td>\n",
       "      <td>-9999</td>\n",
       "      <td>66.70</td>\n",
       "      <td>0.160</td>\n",
       "      <td>-9999</td>\n",
       "      <td>149.28</td>\n",
       "      <td>...</td>\n",
       "      <td>0.00140</td>\n",
       "      <td>0.000120</td>\n",
       "      <td>6.49</td>\n",
       "      <td>0.75</td>\n",
       "      <td>-20.90</td>\n",
       "      <td>1.60</td>\n",
       "      <td>651.8</td>\n",
       "      <td>400.2</td>\n",
       "      <td>467.6</td>\n",
       "      <td>0</td>\n",
       "    </tr>\n",
       "    <tr>\n",
       "      <th>599</th>\n",
       "      <td>FRB20190701E</td>\n",
       "      <td>-9999</td>\n",
       "      <td>-9999</td>\n",
       "      <td>138.57</td>\n",
       "      <td>0.190</td>\n",
       "      <td>-9999</td>\n",
       "      <td>61.71</td>\n",
       "      <td>0.036</td>\n",
       "      <td>-9999</td>\n",
       "      <td>153.27</td>\n",
       "      <td>...</td>\n",
       "      <td>0.00042</td>\n",
       "      <td>0.000150</td>\n",
       "      <td>0.30</td>\n",
       "      <td>1.40</td>\n",
       "      <td>-5.10</td>\n",
       "      <td>2.20</td>\n",
       "      <td>800.2</td>\n",
       "      <td>400.2</td>\n",
       "      <td>410.3</td>\n",
       "      <td>0</td>\n",
       "    </tr>\n",
       "  </tbody>\n",
       "</table>\n",
       "<p>600 rows × 52 columns</p>\n",
       "</div>"
      ],
      "text/plain": [
       "         tns_name    previous_name repeater_name      ra  ra_err ra_notes  \\\n",
       "0    FRB20180725A  180725.J0613+67         -9999   93.42   0.039    -9999   \n",
       "1    FRB20180727A  180727.J1311+26         -9999  197.72   0.130    -9999   \n",
       "2    FRB20180729A  180729.J1316+55         -9999  199.40   0.120    -9999   \n",
       "3    FRB20180729B  180729.J0558+56         -9999   89.93   0.270    -9999   \n",
       "4    FRB20180730A  180730.J0353+87         -9999   57.39   0.032    -9999   \n",
       "..            ...              ...           ...     ...     ...      ...   \n",
       "595  FRB20190701A            -9999         -9999  277.47   0.210    -9999   \n",
       "596  FRB20190701B            -9999         -9999  302.93   0.220    -9999   \n",
       "597  FRB20190701C            -9999         -9999   96.36   0.230    -9999   \n",
       "598  FRB20190701D            -9999         -9999  112.10   0.180    -9999   \n",
       "599  FRB20190701E            -9999         -9999  138.57   0.190    -9999   \n",
       "\n",
       "       dec  dec_err dec_notes      gl  ...  width_fitb  width_fitb_err  \\\n",
       "0    67.07    0.210     -9999  147.29  ...    0.000296        0.000076   \n",
       "1    26.42    0.260     -9999   24.76  ...     0.00139        0.000170   \n",
       "2    55.58    0.084     -9999  115.26  ...    <0.00010    -9999.000000   \n",
       "3    56.50    0.240     -9999  156.90  ...    0.000314        0.000083   \n",
       "4    87.19    0.200     -9999  125.11  ...    0.000468        0.000040   \n",
       "..     ...      ...       ...     ...  ...         ...             ...   \n",
       "595  59.04    0.220     -9999   88.29  ...    0.000608        0.000057   \n",
       "596  80.18    0.240     -9999  112.88  ...     0.00063        0.000130   \n",
       "597  81.63    0.270     -9999  132.18  ...     0.00144        0.000160   \n",
       "598  66.70    0.160     -9999  149.28  ...     0.00140        0.000120   \n",
       "599  61.71    0.036     -9999  153.27  ...     0.00042        0.000150   \n",
       "\n",
       "     sp_idx sp_idx_err  sp_run  sp_run_err high_freq  low_freq  peak_freq  \\\n",
       "0     38.20       3.70  -45.80        4.20     760.1     485.3      607.4   \n",
       "1      3.80       1.80   -9.20        3.00     800.2     400.2      493.3   \n",
       "2     16.46       0.24  -30.21        0.38     692.7     400.2      525.6   \n",
       "3     14.50       3.50  -14.60        3.50     800.2     441.8      657.5   \n",
       "4      4.27       0.30  -11.31        0.48     759.2     400.2      483.5   \n",
       "..      ...        ...     ...         ...       ...       ...        ...   \n",
       "595   -1.10       1.50    3.30        1.90     800.2     400.2      800.2   \n",
       "596    3.90       1.70  -11.80        3.10     732.8     400.2      471.5   \n",
       "597   46.20       9.00 -211.00       41.00     495.5     402.2      446.4   \n",
       "598    6.49       0.75  -20.90        1.60     651.8     400.2      467.6   \n",
       "599    0.30       1.40   -5.10        2.20     800.2     400.2      410.3   \n",
       "\n",
       "     excluded_flag  \n",
       "0                1  \n",
       "1                1  \n",
       "2                1  \n",
       "3                1  \n",
       "4                1  \n",
       "..             ...  \n",
       "595              0  \n",
       "596              0  \n",
       "597              0  \n",
       "598              0  \n",
       "599              0  \n",
       "\n",
       "[600 rows x 52 columns]"
      ]
     },
     "execution_count": 43,
     "metadata": {},
     "output_type": "execute_result"
    }
   ],
   "source": [
    "data = catalog.as_dataframe()\n",
    "data"
   ]
  },
  {
   "cell_type": "code",
   "execution_count": 14,
   "metadata": {},
   "outputs": [
    {
     "data": {
      "text/html": [
       "<div>\n",
       "<style scoped>\n",
       "    .dataframe tbody tr th:only-of-type {\n",
       "        vertical-align: middle;\n",
       "    }\n",
       "\n",
       "    .dataframe tbody tr th {\n",
       "        vertical-align: top;\n",
       "    }\n",
       "\n",
       "    .dataframe thead th {\n",
       "        text-align: right;\n",
       "    }\n",
       "</style>\n",
       "<table border=\"1\" class=\"dataframe\">\n",
       "  <thead>\n",
       "    <tr style=\"text-align: right;\">\n",
       "      <th></th>\n",
       "      <th>tns_name</th>\n",
       "      <th>previous_name</th>\n",
       "      <th>repeater_name</th>\n",
       "      <th>ra</th>\n",
       "      <th>ra_err</th>\n",
       "      <th>ra_notes</th>\n",
       "      <th>dec</th>\n",
       "      <th>dec_err</th>\n",
       "      <th>dec_notes</th>\n",
       "      <th>gl</th>\n",
       "      <th>...</th>\n",
       "      <th>width_fitb</th>\n",
       "      <th>width_fitb_err</th>\n",
       "      <th>sp_idx</th>\n",
       "      <th>sp_idx_err</th>\n",
       "      <th>sp_run</th>\n",
       "      <th>sp_run_err</th>\n",
       "      <th>high_freq</th>\n",
       "      <th>low_freq</th>\n",
       "      <th>peak_freq</th>\n",
       "      <th>excluded_flag</th>\n",
       "    </tr>\n",
       "  </thead>\n",
       "  <tbody>\n",
       "    <tr>\n",
       "      <th>1</th>\n",
       "      <td>FRB20180727A</td>\n",
       "      <td>180727.J1311+26</td>\n",
       "      <td>-9999</td>\n",
       "      <td>197.72</td>\n",
       "      <td>0.13</td>\n",
       "      <td>-9999</td>\n",
       "      <td>26.42</td>\n",
       "      <td>0.26</td>\n",
       "      <td>-9999</td>\n",
       "      <td>24.76</td>\n",
       "      <td>...</td>\n",
       "      <td>0.00139</td>\n",
       "      <td>0.00017</td>\n",
       "      <td>3.8</td>\n",
       "      <td>1.8</td>\n",
       "      <td>-9.2</td>\n",
       "      <td>3.0</td>\n",
       "      <td>800.2</td>\n",
       "      <td>400.2</td>\n",
       "      <td>493.3</td>\n",
       "      <td>1</td>\n",
       "    </tr>\n",
       "  </tbody>\n",
       "</table>\n",
       "<p>1 rows × 52 columns</p>\n",
       "</div>"
      ],
      "text/plain": [
       "       tns_name    previous_name repeater_name      ra  ra_err ra_notes  \\\n",
       "1  FRB20180727A  180727.J1311+26         -9999  197.72    0.13    -9999   \n",
       "\n",
       "     dec  dec_err dec_notes     gl  ...  width_fitb  width_fitb_err  sp_idx  \\\n",
       "1  26.42     0.26     -9999  24.76  ...     0.00139         0.00017     3.8   \n",
       "\n",
       "  sp_idx_err  sp_run  sp_run_err high_freq  low_freq  peak_freq  excluded_flag  \n",
       "1        1.8    -9.2         3.0     800.2     400.2      493.3              1  \n",
       "\n",
       "[1 rows x 52 columns]"
      ]
     },
     "execution_count": 14,
     "metadata": {},
     "output_type": "execute_result"
    }
   ],
   "source": [
    "specific_burst = data[data['tns_name'] ==\"FRB20180727A\"]\n",
    "specific_burst"
   ]
  },
  {
   "cell_type": "code",
   "execution_count": 1,
   "metadata": {},
   "outputs": [
    {
     "ename": "NameError",
     "evalue": "name 'data' is not defined",
     "output_type": "error",
     "traceback": [
      "\u001b[0;31m---------------------------------------------------------------------------\u001b[0m",
      "\u001b[0;31mNameError\u001b[0m                                 Traceback (most recent call last)",
      "Input \u001b[0;32mIn [1]\u001b[0m, in \u001b[0;36m<cell line: 1>\u001b[0;34m()\u001b[0m\n\u001b[0;32m----> 1\u001b[0m \u001b[43mdata\u001b[49m[\u001b[38;5;124m\"\u001b[39m\u001b[38;5;124mtns_name\u001b[39m\u001b[38;5;124m\"\u001b[39m][\u001b[38;5;241m2\u001b[39m]\n",
      "\u001b[0;31mNameError\u001b[0m: name 'data' is not defined"
     ]
    }
   ],
   "source": [
    "data[\"tns_name\"][2]"
   ]
  },
  {
   "cell_type": "code",
   "execution_count": 47,
   "metadata": {},
   "outputs": [
    {
     "name": "stdout",
     "output_type": "stream",
     "text": [
      "https://ws.cadc-ccda.hia-iha.nrc-cnrc.gc.ca/files/vault/AstroDataCitationDOI/CISTI.CANFAR/21.0007/data/waterfalls/data/FRB20180729A_waterfall.h5\n"
     ]
    }
   ],
   "source": [
    "#find the download url for a burst given its tns_name from the Data table.\n",
    "\n",
    "example_tns = data[\"tns_name\"][2]\n",
    "\n",
    "url_base = \"https://ws.cadc-ccda.hia-iha.nrc-cnrc.gc.ca/files/vault/AstroDataCitationDOI/CISTI.CANFAR/21.0007/data/waterfalls/data/\"\n",
    "waterfall_string = '_waterfall.h5'\n",
    "\n",
    "url = url_base + example_tns +waterfall_string\n",
    "print(url)"
   ]
  },
  {
   "cell_type": "code",
   "execution_count": 48,
   "metadata": {},
   "outputs": [
    {
     "data": {
      "text/plain": [
       "'FRB20180729A_waterfall.h5'"
      ]
     },
     "execution_count": 48,
     "metadata": {},
     "output_type": "execute_result"
    }
   ],
   "source": [
    "Data_from_url = wget.download(url)\n",
    "#Data_from_url"
   ]
  },
  {
   "cell_type": "code",
   "execution_count": 49,
   "metadata": {},
   "outputs": [],
   "source": [
    "#plot_file = 'FRB20180725A_waterfall.h5'\n",
    "data = h5py.File(Data_from_url, \"r\")\n"
   ]
  },
  {
   "cell_type": "code",
   "execution_count": 50,
   "metadata": {},
   "outputs": [
    {
     "data": {
      "text/plain": [
       "['calibrated_wfall',\n",
       " 'extent',\n",
       " 'model_spec',\n",
       " 'model_ts',\n",
       " 'model_wfall',\n",
       " 'plot_freq',\n",
       " 'plot_time',\n",
       " 'spec',\n",
       " 'ts',\n",
       " 'wfall']"
      ]
     },
     "execution_count": 50,
     "metadata": {},
     "output_type": "execute_result"
    }
   ],
   "source": [
    "list(data[\"frb\"].keys())\n"
   ]
  },
  {
   "cell_type": "code",
   "execution_count": 51,
   "metadata": {},
   "outputs": [],
   "source": [
    "data = data[\"frb\"]\n",
    "eventname = data.attrs[\"tns_name\"].decode()\n",
    "wfall = data[\"wfall\"][:]\n",
    "model_wfall = data[\"model_wfall\"][:]\n",
    "plot_time = data[\"plot_time\"][:]\n",
    "plot_freq = data[\"plot_freq\"][:]\n",
    "ts = data[\"ts\"][:]\n",
    "model_ts = data[\"model_ts\"][:]\n",
    "spec = data[\"spec\"][:]\n",
    "model_spec = data[\"model_spec\"][:]\n",
    "extent = data[\"extent\"][:]\n",
    "dm = data.attrs[\"dm\"][()]\n",
    "scatterfit = data.attrs[\"scatterfit\"][()]\n",
    "cal_obs_date = data.attrs[\"calibration_observation_date\"].decode()\n",
    "cal_source_name = data.attrs[\"calibration_source_name\"].decode()\n",
    "cal_wfall =  data[\"calibrated_wfall\"][:]\n",
    "\n",
    "dt = np.median(np.diff(plot_time)) # the delta (time) between time bins \n",
    "# dt in mu s\n",
    "# this value is the same for both caliberated and uncalibrated data\n"
   ]
  },
  {
   "cell_type": "code",
   "execution_count": 52,
   "metadata": {},
   "outputs": [],
   "source": [
    "ts_with_RFI = ts"
   ]
  },
  {
   "cell_type": "code",
   "execution_count": 53,
   "metadata": {},
   "outputs": [
    {
     "name": "stderr",
     "output_type": "stream",
     "text": [
      "<ipython-input-53-31fc115817a1>:8: RuntimeWarning: Degrees of freedom <= 0 for slice.\n",
      "  channel_variance = np.nanvar(wfall, axis=1)\n"
     ]
    }
   ],
   "source": [
    "q1 = np.nanquantile(spec, 0.25)\n",
    "q3 = np.nanquantile(spec, 0.75)\n",
    "iqr = q3 - q1\n",
    "\n",
    "# additional masking of channels with RFI\n",
    "rfi_masking_var_factor = 3\n",
    "\n",
    "channel_variance = np.nanvar(wfall, axis=1)\n",
    "mean_channel_variance = np.nanmean(channel_variance)\n",
    "\n",
    "with np.errstate(invalid=\"ignore\"):\n",
    "    rfi_mask = (channel_variance > \\\n",
    "                rfi_masking_var_factor * mean_channel_variance) \\\n",
    "                | (spec[::-1] < q1 - 1.5 * iqr) | (spec[::-1] > q3 + 1.5 * iqr)\n",
    "wfall[rfi_mask,...] = np.nan\n",
    "model_wfall[rfi_mask,...] = np.nan\n",
    "spec[rfi_mask[::-1]] = np.nan\n",
    "\n",
    "# remake time-series after RFI masking\n",
    "ts = np.nansum(wfall, axis=0)\n",
    "model_ts = np.nansum(model_wfall, axis=0)\n"
   ]
  },
  {
   "cell_type": "markdown",
   "metadata": {},
   "source": [
    "RFI removal paper by the group to understand this further?"
   ]
  },
  {
   "cell_type": "code",
   "execution_count": 54,
   "metadata": {},
   "outputs": [
    {
     "data": {
      "text/plain": [
       "[<matplotlib.lines.Line2D at 0x7f4929197f70>]"
      ]
     },
     "execution_count": 54,
     "metadata": {},
     "output_type": "execute_result"
    },
    {
     "data": {
      "image/png": "[encoded data removed]",
      "text/plain": [
       "<Figure size 432x288 with 1 Axes>"
      ]
     },
     "metadata": {
      "needs_background": "light"
     },
     "output_type": "display_data"
    }
   ],
   "source": [
    "plt.plot(ts-ts_with_RFI)"
   ]
  },
  {
   "cell_type": "code",
   "execution_count": 55,
   "metadata": {},
   "outputs": [
    {
     "data": {
      "text/plain": [
       "[<matplotlib.lines.Line2D at 0x7f49279586a0>]"
      ]
     },
     "execution_count": 55,
     "metadata": {},
     "output_type": "execute_result"
    },
    {
     "data": {
      "image/png": "[encoded data removed]",
      "text/plain": [
       "<Figure size 432x288 with 1 Axes>"
      ]
     },
     "metadata": {
      "needs_background": "light"
     },
     "output_type": "display_data"
    }
   ],
   "source": [
    "plt.plot(ts)"
   ]
  },
  {
   "cell_type": "code",
   "execution_count": 56,
   "metadata": {},
   "outputs": [],
   "source": [
    "def boxcar_kernel(width):\n",
    "    width = int(round(width, 0))\n",
    "    return np.ones(width, dtype=\"float32\") / np.sqrt(width)\n",
    "\n",
    "\n",
    "def find_burst(ts, min_width=1, max_width=128):\n",
    "    min_width = int(min_width)\n",
    "    max_width = int(max_width)\n",
    "    # do not search widths bigger than timeseries\n",
    "    widths = list(range(min_width, min(max_width + 1, len(ts)-2)))\n",
    "    # envelope finding\n",
    "    snrs = np.empty_like(widths, dtype=float)\n",
    "    peaks = np.empty_like(widths, dtype=int)\n",
    "    for i in range(len(widths)):\n",
    "        convolved = scipy.signal.convolve(ts, boxcar_kernel(widths[i]), mode=\"same\")\n",
    "        peaks[i] = np.nanargmax(convolved)\n",
    "        snrs[i] = convolved[peaks[i]]\n",
    "    best_idx = np.nanargmax(snrs)\n",
    "    return peaks[best_idx], widths[best_idx], snrs[best_idx]\n"
   ]
  },
  {
   "cell_type": "code",
   "execution_count": 57,
   "metadata": {},
   "outputs": [
    {
     "name": "stdout",
     "output_type": "stream",
     "text": [
      "Peak: 6 at time sample, Width = 0.9830399649217725 ms, SNR = 1294.7659748792648\n"
     ]
    }
   ],
   "source": [
    "peak, width, snr = find_burst(ts)\n",
    "print(f\"Peak: {peak} at time sample, Width = {width*dt} ms, SNR = {snr}\")\n"
   ]
  },
  {
   "cell_type": "code",
   "execution_count": 58,
   "metadata": {},
   "outputs": [],
   "source": [
    "def bin_freq_channels(data, fbin_factor=4):\n",
    "    num_chan = data.shape[0]\n",
    "    if num_chan % fbin_factor != 0:\n",
    "        raise ValueError(\"frequency binning factor `fbin_factor` should be even\")\n",
    "    data = np.nanmean(data.reshape((num_chan // fbin_factor, fbin_factor) + data.shape[1:]), axis=1)\n",
    "    return data\n"
   ]
  },
  {
   "cell_type": "code",
   "execution_count": 59,
   "metadata": {},
   "outputs": [
    {
     "name": "stderr",
     "output_type": "stream",
     "text": [
      "<ipython-input-58-567b23084d7b>:5: RuntimeWarning: Mean of empty slice\n",
      "  data = np.nanmean(data.reshape((num_chan // fbin_factor, fbin_factor) + data.shape[1:]), axis=1)\n"
     ]
    }
   ],
   "source": [
    "# bin frequency channels such that we have 16,384/16 = 1024 frequency channels \n",
    "wfall = bin_freq_channels(wfall, 16)\n"
   ]
  },
  {
   "cell_type": "code",
   "execution_count": 60,
   "metadata": {},
   "outputs": [
    {
     "data": {
      "text/plain": [
       "Text(0.5, 0, 'Time [ms]')"
      ]
     },
     "execution_count": 60,
     "metadata": {},
     "output_type": "execute_result"
    },
    {
     "data": {
      "image/png": "[encoded data removed]",
      "text/plain": [
       "<Figure size 432x432 with 3 Axes>"
      ]
     },
     "metadata": {
      "needs_background": "light"
     },
     "output_type": "display_data"
    }
   ],
   "source": [
    "fig = plt.figure(figsize=(6,6))\n",
    "## Set up the image grid\n",
    "gs = gridspec.GridSpec(ncols=2, nrows=2, figure=fig, width_ratios=[3, 1],\n",
    "                        height_ratios=[1, 3], hspace=0.0, wspace=0.0)\n",
    "data_im = plt.subplot(gs[2])\n",
    "data_ts = plt.subplot(gs[0], sharex=data_im)\n",
    "data_spec = plt.subplot(gs[3], sharey=data_im)\n",
    "\n",
    "\n",
    "### time stamps relative to the peak\n",
    "peak_idx = np.argmax(ts)\n",
    "extent[0] = extent[0] - plot_time[peak_idx]\n",
    "extent[1] = extent[1] - plot_time[peak_idx]\n",
    "plot_time -= plot_time[peak_idx]\n",
    "\n",
    "# prepare time-series for histogramming\n",
    "plot_time -= dt / 2.\n",
    "plot_time = np.append(plot_time, plot_time[-1] + dt)\n",
    "\n",
    "cmap = plt.cm.viridis\n",
    "\n",
    "### plot dynamic spectrum\n",
    "wfall[np.isnan(wfall)] = np.nanmedian(wfall)   # replace nans in the data with the data median\n",
    "# use standard deviation of residuals to set color scale\n",
    "vmin = np.nanpercentile(wfall, 1)\n",
    "vmax = np.nanpercentile(wfall, 99)\n",
    "\n",
    "data_im.imshow(wfall, aspect=\"auto\", interpolation=\"none\",\n",
    "                extent=extent, vmin=vmin, vmax=vmax, cmap=cmap)\n",
    "\n",
    "### plot time-series\n",
    "data_ts.plot(plot_time, np.append(ts, ts[-1]), color=\"tab:gray\",\n",
    "                drawstyle=\"steps-post\")\n",
    "\n",
    "### plot spectrum\n",
    "data_spec.plot(spec, plot_freq, color=\"tab:gray\")\n",
    "\n",
    "### plot model time-series and spectrum\n",
    "if scatterfit:\n",
    "    data_spec.plot(model_spec, plot_freq, color=cmap(0.25))\n",
    "    data_ts.plot(plot_time, np.append(model_ts, model_ts[-1]),\n",
    "                    color=cmap(0.25), drawstyle=\"steps-post\", lw=2)\n",
    "else:\n",
    "    data_spec.plot(model_spec, plot_freq, color=cmap(0.5))\n",
    "    data_ts.plot(plot_time, np.append(model_ts, model_ts[-1]),\n",
    "                    color=cmap(0.5), drawstyle=\"steps-post\", lw=1)\n",
    "\n",
    "\n",
    "## BEautify plot\n",
    "# remove some labels and ticks for neatness\n",
    "plt.setp(data_ts.get_xticklabels(), visible=False)\n",
    "data_ts.set_yticklabels([], visible=True)\n",
    "data_ts.set_yticks([])\n",
    "data_ts.set_xlim(extent[0], extent[1])\n",
    "plt.setp(data_spec.get_yticklabels(), visible=False)\n",
    "data_spec.set_xticklabels([], visible=True)\n",
    "data_spec.set_xticks([])\n",
    "data_spec.set_ylim(extent[2], extent[3])\n",
    "plt.setp(data_im.get_xticklabels(), fontsize=9)\n",
    "plt.setp(data_im.get_yticklabels(), fontsize=9)\n",
    "\n",
    "\n",
    "#### highlighting the width of the pulse\n",
    "data_ts.axvspan(max(plot_time.min(),\n",
    "                        plot_time[peak] + 0.5 * dt \\\n",
    "                        - (0.5 * width) * dt),\n",
    "                    min(plot_time.max(),\n",
    "                        plot_time[peak] + 0.5 * dt \\\n",
    "                        + (0.5 * width) * dt),\n",
    "                    facecolor=\"tab:blue\", edgecolor=None, alpha=0.1)\n",
    "\n",
    "\n",
    "##### add event ID and DM labels\n",
    "xlim = data_ts.get_xlim()\n",
    "ylim = data_ts.get_ylim()\n",
    "\n",
    "# add 20% extra white space at the top\n",
    "span = np.abs(ylim[1]) + np.abs(ylim[0])\n",
    "data_ts.set_ylim(ylim[0], ylim[1] + 0.2 * span)\n",
    "ylim = data_ts.get_ylim()\n",
    "\n",
    "ypos = (ylim[1] - ylim[0]) * 0.9 + ylim[0]\n",
    "xpos = (xlim[1] - xlim[0]) * 0.98 + extent[0]\n",
    "data_ts.text(xpos, ypos, \"{}\\nDM: {:.1f} pc/cc\\nSNR: {:.2f}\".format(eventname, dm,snr), ha=\"right\",\n",
    "                va=\"top\", fontsize=9)\n",
    "\n",
    "data_im.locator_params(axis=\"x\", min_n_ticks=3)\n",
    "data_im.set_yticks([400, 500, 600, 700, 800])\n",
    "data_im.set_ylabel(\"Frequency [MHz]\", fontsize=9)\n",
    "data_im.set_xlabel(\"Time [ms]\", fontsize=9)\n"
   ]
  },
  {
   "cell_type": "code",
   "execution_count": 61,
   "metadata": {},
   "outputs": [
    {
     "data": {
      "text/plain": [
       "<function matplotlib.pyplot.imshow(X, cmap=None, norm=None, aspect=None, interpolation=None, alpha=None, vmin=None, vmax=None, origin=None, extent=None, *, filternorm=True, filterrad=4.0, resample=None, url=None, data=None, **kwargs)>"
      ]
     },
     "execution_count": 61,
     "metadata": {},
     "output_type": "execute_result"
    },
    {
     "data": {
      "image/png": "[encoded data removed]",
      "text/plain": [
       "<Figure size 432x288 with 1 Axes>"
      ]
     },
     "metadata": {
      "needs_background": "light"
     },
     "output_type": "display_data"
    }
   ],
   "source": [
    "plt.plot(plot_time, np.append(ts, ts[-1]), color=\"tab:gray\", drawstyle=\"steps-post\")\n",
    "plt.imshow"
   ]
  },
  {
   "cell_type": "code",
   "execution_count": 62,
   "metadata": {},
   "outputs": [],
   "source": [
    "cal_ts = np.nanmean(cal_wfall, axis = 0)\n"
   ]
  },
  {
   "cell_type": "code",
   "execution_count": 63,
   "metadata": {},
   "outputs": [
    {
     "data": {
      "text/plain": [
       "Text(0, 0.5, 'Flux [Jy]')"
      ]
     },
     "execution_count": 63,
     "metadata": {},
     "output_type": "execute_result"
    },
    {
     "data": {
      "image/png": "[encoded data removed]",
      "text/plain": [
       "<Figure size 360x360 with 2 Axes>"
      ]
     },
     "metadata": {
      "needs_background": "light"
     },
     "output_type": "display_data"
    }
   ],
   "source": [
    "cal_wfall[np.isnan(cal_wfall)] = np.nanmedian(cal_wfall)   # replace nans in the data with the data median\n",
    "#bin frequency channels such that we have 16,384/16 = 1024 frequency channels \n",
    "cal_wfall = bin_freq_channels(cal_wfall,16) \n",
    "vmin = np.nanpercentile(cal_wfall, 1)\n",
    "vmax = np.nanpercentile(cal_wfall, 99)\n",
    "\n",
    "times = np.arange(len(cal_ts))*dt\n",
    "peak_idx = np.argmax(cal_ts)\n",
    "times -= times[peak_idx]\n",
    "times -= dt / 2.\n",
    "\n",
    "extent[0] = times[0]\n",
    "extent[1] = times[-1]\n",
    "\n",
    "fig = plt.figure(figsize=(5,5), constrained_layout=True)\n",
    "layout = \"\"\"\n",
    "A\n",
    "C\n",
    "\"\"\"\n",
    "ax_dict = fig.subplot_mosaic(layout)\n",
    "ax_dict[\"A\"].imshow(cal_wfall, aspect=\"auto\", vmin=vmin,vmax=vmax, extent = extent )\n",
    "ax_dict[\"A\"].set_title(f\"Waterfall of {eventname} \\n Calibrated to {cal_source_name} on {cal_obs_date}\")\n",
    "ax_dict[\"A\"].set_yticks([400, 500, 600, 700, 800])\n",
    "ax_dict[\"C\"].plot(times,cal_ts, drawstyle=\"steps-post\")\n",
    "ax_dict[\"C\"].set_xlabel(\"Time [ms]\")\n",
    "ax_dict[\"C\"].set_title(f\"Time Series of {eventname} \\nCalibrated to {cal_source_name} on {cal_obs_date} \\\n",
    "        \\n Peak flux = {cal_ts[peak_idx]:.3f} Jy\")\n",
    "ax_dict[\"A\"].set_ylabel(\"Frequency [MHz]\")\n",
    "ax_dict[\"C\"].set_ylabel(\"Flux [Jy]\")\n"
   ]
  },
  {
   "cell_type": "code",
   "execution_count": null,
   "metadata": {},
   "outputs": [],
   "source": []
  }
 ],
 "metadata": {
  "kernelspec": {
   "display_name": "Python 3",
   "language": "python",
   "name": "python3"
  },
  "language_info": {
   "codemirror_mode": {
    "name": "ipython",
    "version": 3
   },
   "file_extension": ".py",
   "mimetype": "text/x-python",
   "name": "python",
   "nbconvert_exporter": "python",
   "pygments_lexer": "ipython3",
   "version": "3.8.10"
  }
 },
 "nbformat": 4,
 "nbformat_minor": 4
}
