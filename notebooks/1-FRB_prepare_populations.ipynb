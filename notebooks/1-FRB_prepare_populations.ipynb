{
 "cells": [
  {
   "cell_type": "code",
   "execution_count": 13,
   "id": "86611518-5d87-47e1-94b7-39e759fdd7a2",
   "metadata": {},
   "outputs": [
    {
     "name": "stdout",
     "output_type": "stream",
     "text": [
      "Importing the dtw module. When using in academic works please cite:\n",
      "  T. Giorgino. Computing and Visualizing Dynamic Time Warping Alignments in R: The dtw Package.\n",
      "  J. Stat. Soft., doi:10.18637/jss.v031.i07.\n",
      "\n"
     ]
    }
   ],
   "source": [
    "%load_ext autoreload\n",
    "%autoreload 2\n",
    "%config InlineBackend.figure_format='retina'\n",
    "\n",
    "import os\n",
    "import sys\n",
    "import time\n",
    "from multiprocessing import Process, Pool\n",
    "import warnings\n",
    "warnings.simplefilter('ignore')\n",
    "\n",
    "# Add module path to system path\n",
    "module_paths = ['..', \n",
    "                '../..',\n",
    "               ]\n",
    "for module_path in module_paths:\n",
    "    if os.path.abspath(os.path.join(module_path)) not in sys.path:\n",
    "        sys.path.insert(0, module_path)\n",
    "    \n",
    "from epn_mining.preparation import epn\n",
    "from epn_mining.utils.io import load, save\n",
    "    \n",
    "\n",
    "\n",
    "# Set session variables\n",
    "verbose = True\n",
    "state_store=True\n"
   ]
  },
  {
   "cell_type": "code",
   "execution_count": 14,
   "id": "82512023-5142-4f14-adbf-8e42ff08f0c0",
   "metadata": {},
   "outputs": [],
   "source": [
    "import numpy as np\n",
    "import pandas as pd\n",
    "import matplotlib.pyplot as plt\n",
    "from matplotlib import gridspec\n",
    "\n",
    "from tqdm import tqdm\n",
    "\n",
    "import cfod\n",
    "from cfod import catalog\n",
    "from cfod.routines import waterfaller\n",
    "\n",
    "import h5py\n",
    "import scipy\n",
    "import wget"
   ]
  },
  {
   "cell_type": "code",
   "execution_count": 15,
   "id": "18f66acd-c380-4ffc-bab5-ad58d19bb470",
   "metadata": {},
   "outputs": [],
   "source": [
    "data_catalog = catalog.as_dataframe()\n",
    "#list(data_catalog['tns_name'])"
   ]
  },
  {
   "cell_type": "code",
   "execution_count": 16,
   "id": "836d6822-6a8d-4a63-8a09-3cbcc299eccf",
   "metadata": {},
   "outputs": [],
   "source": [
    "from Graph_getter import Get_me_FRB_data"
   ]
  },
  {
   "cell_type": "code",
   "execution_count": 5,
   "id": "e4640f90-39b9-4781-a98e-ae2b64a6c3ea",
   "metadata": {},
   "outputs": [
    {
     "name": "stdout",
     "output_type": "stream",
     "text": [
      "file not in folder, downloading\n",
      "100% [........................................................................] 35527920 / 35527920Peak: 14 at time sample, Width = 4.915199970128015 ms, SNR = 279.1211697946155\n"
     ]
    },
    {
     "name": "stderr",
     "output_type": "stream",
     "text": [
      "/Users/vohl/Documents/code/graph_profiles/notebooks/Graph_getter.py:101: RuntimeWarning: Degrees of freedom <= 0 for slice.\n",
      "  channel_variance = np.nanvar(wfall, axis=1)\n"
     ]
    },
    {
     "data": {
      "text/plain": [
       "array([-12.28799993, -11.30495993, -10.32191994,  -9.33887994,\n",
       "        -8.35583995,  -7.37279996,  -6.38975996,  -5.40671997,\n",
       "        -4.42367997,  -3.44063998,  -2.45759999,  -1.47455999,\n",
       "        -0.49152   ,   0.49152   ,   1.47455999,   2.45759999,\n",
       "         3.44063998,   4.42367997,   5.40671997,   6.38975996,\n",
       "         7.37279996,   8.35583995,   9.33887994,  10.32191994,\n",
       "        11.30495993,  12.28799993,  13.27103992,  14.25407991,\n",
       "        15.23711991,  16.2201599 ,  17.2031999 ,  18.18623989,\n",
       "        19.16927988,  20.15231988,  21.13535987,  22.11839987,\n",
       "        23.10143986,  24.08447985,  25.06751985])"
      ]
     },
     "execution_count": 5,
     "metadata": {},
     "output_type": "execute_result"
    }
   ],
   "source": [
    "plot_time, ts_full_list, model_ts_full_list, times_shorter, cal_ts_shorter, snr = Get_me_FRB_data(10)\n",
    "plot_time"
   ]
  },
  {
   "cell_type": "code",
   "execution_count": 18,
   "id": "11d514ff-54fa-4cc3-8fbc-60b83b02ef5a",
   "metadata": {},
   "outputs": [
    {
     "data": {
      "text/plain": [
       "\u001b[0;31mSignature:\u001b[0m \u001b[0mwget\u001b[0m\u001b[0;34m.\u001b[0m\u001b[0mdownload\u001b[0m\u001b[0;34m(\u001b[0m\u001b[0murl\u001b[0m\u001b[0;34m,\u001b[0m \u001b[0mout\u001b[0m\u001b[0;34m=\u001b[0m\u001b[0;32mNone\u001b[0m\u001b[0;34m,\u001b[0m \u001b[0mbar\u001b[0m\u001b[0;34m=\u001b[0m\u001b[0;34m<\u001b[0m\u001b[0mfunction\u001b[0m \u001b[0mbar_adaptive\u001b[0m \u001b[0mat\u001b[0m \u001b[0;36m0x7f8c846b4f70\u001b[0m\u001b[0;34m>\u001b[0m\u001b[0;34m)\u001b[0m\u001b[0;34m\u001b[0m\u001b[0;34m\u001b[0m\u001b[0m\n",
       "\u001b[0;31mDocstring:\u001b[0m\n",
       "High level function, which downloads URL into tmp file in current\n",
       "directory and then renames it to filename autodetected from either URL\n",
       "or HTTP headers.\n",
       "\n",
       ":param bar: function to track download progress (visualize etc.)\n",
       ":param out: output filename or directory\n",
       ":return:    filename where URL is downloaded to\n",
       "\u001b[0;31mFile:\u001b[0m      ~/.local/lib/python3.8/site-packages/wget.py\n",
       "\u001b[0;31mType:\u001b[0m      function\n"
      ]
     },
     "metadata": {},
     "output_type": "display_data"
    }
   ],
   "source": [
    "import wget\n",
    "wget.download?"
   ]
  },
  {
   "cell_type": "code",
   "execution_count": 46,
   "id": "a6d30480-dd08-4643-b721-e3e68ca7ae91",
   "metadata": {},
   "outputs": [],
   "source": [
    "#The bins are currently set as:\n",
    "\n",
    "LIMS = (\n",
    "   [0,  200], # in MHz\n",
    "   [200,400],\n",
    "   [400,700],\n",
    "   [700,1000],\n",
    "   [1000,1500],\n",
    "   [1500,2000],\n",
    "   [2000,1199169832000000]\n",
    ")\n",
    "LIMS_DICT = {i:v for i, v in enumerate(LIMS)}\n",
    "\n",
    "def get_freq_range(freq):\n",
    "    for freq_bin in LIMS_DICT.keys():\n",
    "        l, h = LIMS_DICT[freq_bin]\n",
    "        if (freq >= l) and (freq < h):\n",
    "            return freq_bin\n",
    "    return None"
   ]
  },
  {
   "cell_type": "code",
   "execution_count": 10,
   "id": "bcc907f9-4d0a-4d65-acdc-04aa20c0862b",
   "metadata": {},
   "outputs": [
    {
     "data": {
      "text/plain": [
       "Int64Index([ 12,  22,  25,  30,  33,  34,  35,  38,  61,  65,  66,  75,  76,\n",
       "             77,  78,  79,  81,  82,  87,  88, 100, 103, 104, 105, 106, 108,\n",
       "            109, 120, 121, 157, 162, 163, 164, 165, 171, 172, 181, 184, 185,\n",
       "            211, 239, 240, 245, 266, 295, 296, 297, 298, 299, 302, 310, 311,\n",
       "            313, 314, 319, 335, 354, 355, 360, 372, 419, 441, 449, 450, 480,\n",
       "            484, 489, 490, 497, 498, 499, 500, 501, 502, 503, 508, 522, 524,\n",
       "            526, 527, 528, 533, 534, 535, 536, 537, 547, 548, 566, 577, 578,\n",
       "            579, 582, 592],\n",
       "           dtype='int64')"
      ]
     },
     "execution_count": 10,
     "metadata": {},
     "output_type": "execute_result"
    }
   ],
   "source": [
    "df_repeaters = data_catalog.loc[data_catalog.repeater_name != '-9999']\n",
    "df_repeaters.index"
   ]
  },
  {
   "cell_type": "code",
   "execution_count": 43,
   "id": "9304d4c6-92e8-4e1b-bb87-1f50de4d6fec",
   "metadata": {},
   "outputs": [
    {
     "name": "stdout",
     "output_type": "stream",
     "text": [
      "600 0 200\n",
      "600 200 400\n",
      "600 400 700\n"
     ]
    },
    {
     "data": {
      "text/plain": [
       "2"
      ]
     },
     "execution_count": 43,
     "metadata": {},
     "output_type": "execute_result"
    }
   ],
   "source": [
    "get_freq_range(600)"
   ]
  },
  {
   "cell_type": "code",
   "execution_count": 47,
   "id": "39dd6ca2-0e65-46d4-a6d3-f8207780cd55",
   "metadata": {},
   "outputs": [
    {
     "name": "stderr",
     "output_type": "stream",
     "text": [
      "100%|██████████████████████████████████████████████████████████████████████████████████████████████████████████████████████████████████████████████████| 506/506 [01:24<00:00,  5.98it/s]\n"
     ]
    }
   ],
   "source": [
    "from epn_mining.preparation.pulsar import Pulsar, Population, Observation\n",
    "\n",
    "population = Population()\n",
    "\n",
    "df_repeaters = data_catalog.loc[data_catalog.repeater_name == '-9999']\n",
    "\n",
    "\n",
    "for index in tqdm(df_repeaters.index):\n",
    "    pulsar = Pulsar(jname = df_repeaters['tns_name'][index], index = index)\n",
    "    #print(pulsar.jname)\n",
    "    \n",
    "    _, _, model_ts_full_list, _, _, snr = Get_me_FRB_data(index)\n",
    "    \n",
    "    if model_ts_full_list is not None:\n",
    "        obs=Observation(frequency=600, frequency_range=get_freq_range(600))\n",
    "\n",
    "        obs.model = (model_ts_full_list - np.min(model_ts_full_list)) / (np.max(model_ts_full_list) - np.min(model_ts_full_list))\n",
    "        obs.profile = model_ts_full_list\n",
    "        obs.snr = snr\n",
    "\n",
    "        pulsar.add_observation(obs)\n",
    "\n",
    "        population.add_pulsar(pulsar)\n",
    "    \n",
    "    # print(index)"
   ]
  },
  {
   "cell_type": "code",
   "execution_count": 48,
   "id": "448e3d82-6bbf-46a7-9fa0-eb74c2786009",
   "metadata": {},
   "outputs": [],
   "source": [
    "save('population', population, state_prefix='FRB_one_offs')"
   ]
  },
  {
   "cell_type": "code",
   "execution_count": null,
   "id": "78019d16-80d8-4712-af4e-f6b8128f27f9",
   "metadata": {},
   "outputs": [],
   "source": [
    "data_cal"
   ]
  },
  {
   "cell_type": "code",
   "execution_count": 12,
   "id": "97305e86-0c8b-4936-8de2-f5beff77be25",
   "metadata": {},
   "outputs": [],
   "source": [
    "# from epn_mining.topology import topology\n",
    "\n",
    "# # If you set the Observation frequency to 600 (MHz, central freq for CHIME), it will set the frequency id = 2\n",
    "# freq_ids_to_include = [2]\n",
    "\n",
    "# distances, \\\n",
    "# population_graph_indices, \\\n",
    "# graph_population_indices = topology.complete_undirected_weighted_graph(population,\n",
    "#                                                                        metric=metric,\n",
    "#                                                                        stokes_to_include=stokes_to_include,\n",
    "#                                                                        weights=weights,\n",
    "#                                                                        freq_ids_to_include=freq_ids_to_include,\n",
    "#                                                                        min_snr=min_snr,\n",
    "#                                                                        penalty=penalty,\n",
    "#                                                                        step_pattern=step_pattern,\n",
    "#                                                                        window_type=window_type,\n",
    "#                                                                        window_args=window_args,\n",
    "#                                                                        open_begin=open_begin,\n",
    "#                                                                        open_end=open_end,\n",
    "#                                                                        cropped=cropped,\n",
    "#                                                                        verbose=verbose)\n"
   ]
  },
  {
   "cell_type": "code",
   "execution_count": 11,
   "id": "1dd57629-efdc-4aae-a303-46b3cf5fb7d2",
   "metadata": {},
   "outputs": [],
   "source": [
    "population = load('population', state_prefix='FRB')\n"
   ]
  },
  {
   "cell_type": "code",
   "execution_count": 12,
   "id": "758b6478-52c6-4c5e-a216-3a41419c09e5",
   "metadata": {},
   "outputs": [
    {
     "data": {
      "text/plain": [
       "<epn_mining.preparation.pulsar.Population at 0x7f72bee12be0>"
      ]
     },
     "execution_count": 12,
     "metadata": {},
     "output_type": "execute_result"
    }
   ],
   "source": [
    "population"
   ]
  },
  {
   "cell_type": "code",
   "execution_count": null,
   "id": "506bd55c-0e86-4f6d-9c42-41525b0d06aa",
   "metadata": {},
   "outputs": [],
   "source": []
  }
 ],
 "metadata": {
  "kernelspec": {
   "display_name": "Python 3 (ipykernel)",
   "language": "python",
   "name": "python3"
  },
  "language_info": {
   "codemirror_mode": {
    "name": "ipython",
    "version": 3
   },
   "file_extension": ".py",
   "mimetype": "text/x-python",
   "name": "python",
   "nbconvert_exporter": "python",
   "pygments_lexer": "ipython3",
   "version": "3.9.15"
  }
 },
 "nbformat": 4,
 "nbformat_minor": 5
}
